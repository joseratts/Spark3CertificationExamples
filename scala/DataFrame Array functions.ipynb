{
 "cells": [
  {
   "cell_type": "markdown",
   "metadata": {},
   "source": [
    "Notebook dedicado a exploar distintos métodos a utilizar con columnas de datos que alojan arrays. Daremos un vistazo a las funciones:\n",
    "* explode\n",
    "* explode_outer\n",
    "* array_join\n",
    "* array_contains\n",
    "* array_max\n",
    "* array_min\n",
    "* array_remove\n",
    "* array_repeat\n",
    "* filter\n",
    "* size"
   ]
  },
  {
   "cell_type": "code",
   "execution_count": 3,
   "metadata": {},
   "outputs": [
    {
     "name": "stdout",
     "output_type": "stream",
     "text": [
      "+---------------+---+--------------------+--------------------+\n",
      "|          names|age|      prog_languages|        citizenships|\n",
      "+---------------+---+--------------------+--------------------+\n",
      "|[Jose, Antonio]| 40|[Java, Scala, Pyt...|[Spanish, Venezue...|\n",
      "|[María, Isabel]| 38|                  []|[Spanish, Venezue...|\n",
      "|[Antonio, Jose]| 28|        [Javascript]|        [Venezuelan]|\n",
      "| [Norma, Elena]| 63|                  []|[Spanish, Venezue...|\n",
      "+---------------+---+--------------------+--------------------+\n",
      "\n"
     ]
    },
    {
     "data": {
      "text/plain": [
       "import org.apache.spark.sql.types.{StringType, StructField, IntegerType, ArrayType, StructType}\n",
       "import org.apache.spark.sql.Row\n",
       "data: Seq[org.apache.spark.sql.Row] = List([List(Jose, Antonio),40,List(Java, Scala, Python, C, C++),List(Spanish, Venezuelan)], [List(María, Isabel),38,List(),List(Spanish, Venezuelan)], [List(Antonio, Jose),28,List(Javascript),List(Venezuelan)], [List(Norma, Elena),63,List(),List(Spanish, Venezuelan, Italian)])\n",
       "schema: org.apache.spark.sql.types.StructType = StructType(StructField(names,ArrayType(StringType,true),true), StructField(age,IntegerType,true), StructField(prog_languages,ArrayType(StringType,true),true), StructField(citizenships,ArrayType(StringType,true),true))\n",
       "df: org.apache.spark.sql.DataFrame = [names: array<string>, age: int ... 2 more fields]\n"
      ]
     },
     "execution_count": 3,
     "metadata": {},
     "output_type": "execute_result"
    }
   ],
   "source": [
    "import org.apache.spark.sql.types.{StringType, StructField, IntegerType, ArrayType, StructType}\n",
    "import org.apache.spark.sql.Row\n",
    "\n",
    "val data = Seq(\n",
    "  Row(List(\"Jose\", \"Antonio\"), 40, List(\"Java\", \"Scala\", \"Python\", \"C\", \"C++\"), List(\"Spanish\", \"Venezuelan\")), \n",
    "  Row(List(\"María\", \"Isabel\"), 38, List(), List(\"Spanish\", \"Venezuelan\")), \n",
    "  Row(List(\"Antonio\", \"Jose\"), 28, List(\"Javascript\"), List(\"Venezuelan\")), \n",
    "  Row(List(\"Norma\", \"Elena\"), 63, List(), List(\"Spanish\", \"Venezuelan\", \"Italian\"))\n",
    ")\n",
    "\n",
    "val schema = new StructType(\n",
    "  Array(\n",
    "    StructField(\"names\", ArrayType(StringType), true),\n",
    "    StructField(\"age\", IntegerType, true),\n",
    "    StructField(\"prog_languages\", ArrayType(StringType), true),\n",
    "    StructField(\"citizenships\", ArrayType(StringType), true)\n",
    "    )\n",
    "  )\n",
    "\n",
    "val df = spark.createDataFrame(spark.sparkContext.parallelize(data), schema)\n",
    "df.show()"
   ]
  },
  {
   "cell_type": "code",
   "execution_count": 4,
   "metadata": {},
   "outputs": [
    {
     "name": "stdout",
     "output_type": "stream",
     "text": [
      "+--------------------+---+----------+\n",
      "|array_join(names,  )|age|       col|\n",
      "+--------------------+---+----------+\n",
      "|        Jose Antonio| 40|      Java|\n",
      "|        Jose Antonio| 40|     Scala|\n",
      "|        Jose Antonio| 40|    Python|\n",
      "|        Jose Antonio| 40|         C|\n",
      "|        Jose Antonio| 40|       C++|\n",
      "|        Antonio Jose| 28|Javascript|\n",
      "+--------------------+---+----------+\n",
      "\n"
     ]
    },
    {
     "data": {
      "text/plain": [
       "import org.apache.spark.sql.functions._\n"
      ]
     },
     "execution_count": 4,
     "metadata": {},
     "output_type": "execute_result"
    }
   ],
   "source": [
    "import org.apache.spark.sql.functions._\n",
    "\n",
    "df.select(array_join($\"names\", \" \"), $\"age\", explode($\"prog_languages\")).show()"
   ]
  },
  {
   "cell_type": "code",
   "execution_count": 5,
   "metadata": {},
   "outputs": [
    {
     "name": "stdout",
     "output_type": "stream",
     "text": [
      "+--------------------+---+----------+\n",
      "|array_join(names,  )|age|       col|\n",
      "+--------------------+---+----------+\n",
      "|        Jose Antonio| 40|      Java|\n",
      "|        Jose Antonio| 40|     Scala|\n",
      "|        Jose Antonio| 40|    Python|\n",
      "|        Jose Antonio| 40|         C|\n",
      "|        Jose Antonio| 40|       C++|\n",
      "|        María Isabel| 38|      null|\n",
      "|        Antonio Jose| 28|Javascript|\n",
      "|         Norma Elena| 63|      null|\n",
      "+--------------------+---+----------+\n",
      "\n"
     ]
    }
   ],
   "source": [
    "df.select(array_join($\"names\", \" \"), $\"age\", explode_outer($\"prog_languages\")).show()"
   ]
  },
  {
   "cell_type": "code",
   "execution_count": 6,
   "metadata": {},
   "outputs": [
    {
     "name": "stdout",
     "output_type": "stream",
     "text": [
      "+------------+--------------+\n",
      "|        name|constains_Java|\n",
      "+------------+--------------+\n",
      "|Jose Antonio|          true|\n",
      "|María Isabel|         false|\n",
      "|Antonio Jose|         false|\n",
      "| Norma Elena|         false|\n",
      "+------------+--------------+\n",
      "\n"
     ]
    }
   ],
   "source": [
    "df.select(array_join($\"names\", \" \").alias(\"name\"), array_contains($\"prog_languages\", \"Java\").alias(\"constains_Java\")).show()"
   ]
  },
  {
   "cell_type": "code",
   "execution_count": 7,
   "metadata": {},
   "outputs": [
    {
     "name": "stdout",
     "output_type": "stream",
     "text": [
      "+------------+--------------+\n",
      "|        name|constains_Java|\n",
      "+------------+--------------+\n",
      "|Jose Antonio|          true|\n",
      "|Antonio Jose|         false|\n",
      "+------------+--------------+\n",
      "\n"
     ]
    }
   ],
   "source": [
    "df.select(array_join($\"names\", \" \").alias(\"name\"), array_contains($\"prog_languages\", \"Java\").alias(\"constains_Java\")).where(array_contains($\"names\", \"Jose\")).show()"
   ]
  },
  {
   "cell_type": "code",
   "execution_count": 8,
   "metadata": {},
   "outputs": [
    {
     "name": "stdout",
     "output_type": "stream",
     "text": [
      "+----------------+---+-------------------------+\n",
      "|array_max(names)|age|array_min(prog_languages)|\n",
      "+----------------+---+-------------------------+\n",
      "|            Jose| 40|                        C|\n",
      "|           María| 38|                     null|\n",
      "|            Jose| 28|               Javascript|\n",
      "|           Norma| 63|                     null|\n",
      "+----------------+---+-------------------------+\n",
      "\n"
     ]
    }
   ],
   "source": [
    "df.select(array_max($\"names\"), $\"age\", array_min($\"prog_languages\")).show()"
   ]
  },
  {
   "cell_type": "code",
   "execution_count": 9,
   "metadata": {},
   "outputs": [
    {
     "name": "stdout",
     "output_type": "stream",
     "text": [
      "+--------------------+---+--------------------+-----------------------------------+\n",
      "|array_join(names, -)|age|array_repeat(age, 3)|array_remove(citizenships, Spanish)|\n",
      "+--------------------+---+--------------------+-----------------------------------+\n",
      "|Jose-Antonio        |40 |[40, 40, 40]        |[Venezuelan]                       |\n",
      "|María-Isabel        |38 |[38, 38, 38]        |[Venezuelan]                       |\n",
      "|Antonio-Jose        |28 |[28, 28, 28]        |[Venezuelan]                       |\n",
      "|Norma-Elena         |63 |[63, 63, 63]        |[Venezuelan, Italian]              |\n",
      "+--------------------+---+--------------------+-----------------------------------+\n",
      "\n"
     ]
    }
   ],
   "source": [
    "df.select(array_join($\"names\", \"-\"), $\"age\", array_repeat($\"age\", 3), array_remove($\"citizenships\", \"Spanish\")).show(false)"
   ]
  },
  {
   "cell_type": "code",
   "execution_count": 10,
   "metadata": {},
   "outputs": [
    {
     "name": "stdout",
     "output_type": "stream",
     "text": [
      "+--------------------+--------------------+---------------------------------------------------------+\n",
      "|array_join(names, -)|size(prog_languages)|filter(citizenships, lambdafunction((x = Venezuelan), x))|\n",
      "+--------------------+--------------------+---------------------------------------------------------+\n",
      "|        Jose-Antonio|                   5|                                             [Venezuelan]|\n",
      "|        María-Isabel|                   0|                                             [Venezuelan]|\n",
      "|        Antonio-Jose|                   1|                                             [Venezuelan]|\n",
      "|         Norma-Elena|                   0|                                             [Venezuelan]|\n",
      "+--------------------+--------------------+---------------------------------------------------------+\n",
      "\n"
     ]
    }
   ],
   "source": [
    "df.select(array_join($\"names\", \"-\"), size($\"prog_languages\"), filter($\"citizenships\", x => x === \"Venezuelan\")).show()"
   ]
  },
  {
   "cell_type": "code",
   "execution_count": null,
   "metadata": {},
   "outputs": [],
   "source": []
  }
 ],
 "metadata": {
  "kernelspec": {
   "display_name": "spylon-kernel",
   "language": "scala",
   "name": "spylon-kernel"
  },
  "language_info": {
   "codemirror_mode": "text/x-scala",
   "file_extension": ".scala",
   "help_links": [
    {
     "text": "MetaKernel Magics",
     "url": "https://metakernel.readthedocs.io/en/latest/source/README.html"
    }
   ],
   "mimetype": "text/x-scala",
   "name": "scala",
   "pygments_lexer": "scala",
   "version": "0.4.1"
  }
 },
 "nbformat": 4,
 "nbformat_minor": 2
}
