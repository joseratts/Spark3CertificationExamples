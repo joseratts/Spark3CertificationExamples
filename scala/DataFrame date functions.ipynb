{
 "cells": [
  {
   "cell_type": "markdown",
   "metadata": {},
   "source": [
    "Notebook dedicado a explorar distintas funciones orientadas al tratamiento y conversión de fechas y horas"
   ]
  },
  {
   "cell_type": "code",
   "execution_count": 1,
   "metadata": {},
   "outputs": [
    {
     "data": {
      "text/plain": [
       "Intitializing Scala interpreter ..."
      ]
     },
     "metadata": {},
     "output_type": "display_data"
    },
    {
     "data": {
      "text/plain": [
       "Spark Web UI available at http://192.168.1.36:4046\n",
       "SparkContext available as 'sc' (version = 3.0.2, master = local[*], app id = local-1615723460618)\n",
       "SparkSession available as 'spark'\n"
      ]
     },
     "metadata": {},
     "output_type": "display_data"
    },
    {
     "name": "stdout",
     "output_type": "stream",
     "text": [
      "+------------+--------------------+-------------+\n",
      "|        name|       date_of_birth|birthday_date|\n",
      "+------------+--------------------+-------------+\n",
      "|        Jose|1980-03-22 05:45:...|   1980-03-22|\n",
      "|María Isabel|1982-12-10 21:45:...|   1982-12-10|\n",
      "|     Antonio|1993-01-21 12:45:...|   1993-01-21|\n",
      "|       Norma|1954-08-14 06:15:...|   1954-08-14|\n",
      "+------------+--------------------+-------------+\n",
      "\n"
     ]
    },
    {
     "data": {
      "text/plain": [
       "import spark.implicits._\n",
       "columns: Seq[String] = List(name, date_of_birth, birthday_date)\n",
       "data: Seq[(String, String, String)] = List((Jose,1980-03-22 05:45:00.000,1980-03-22), (María Isabel,1982-12-10 21:45:00.000,1982-12-10), (Antonio,1993-01-21 12:45:34.445,1993-01-21), (Norma,1954-08-14 06:15:12.001,1954-08-14))\n",
       "df: org.apache.spark.sql.DataFrame = [name: string, date_of_birth: string ... 1 more field]\n"
      ]
     },
     "execution_count": 1,
     "metadata": {},
     "output_type": "execute_result"
    }
   ],
   "source": [
    "import spark.implicits._\n",
    "val columns = Seq(\"name\",\"date_of_birth\", \"birthday_date\")\n",
    "val data = Seq(\n",
    "  (\"Jose\", \"1980-03-22 05:45:00.000\", \"1980-03-22\"),\n",
    "  (\"María Isabel\", \"1982-12-10 21:45:00.000\", \"1982-12-10\"),\n",
    "  (\"Antonio\", \"1993-01-21 12:45:34.445\", \"1993-01-21\"),\n",
    "  (\"Norma\", \"1954-08-14 06:15:12.001\", \"1954-08-14\")\n",
    ")\n",
    "val df = data.toDF(columns:_*)\n",
    "df.show()"
   ]
  },
  {
   "cell_type": "code",
   "execution_count": 2,
   "metadata": {},
   "outputs": [
    {
     "name": "stdout",
     "output_type": "stream",
     "text": [
      "+------------+-----------------------+-------------+------------+-----------------------+\n",
      "|name        |date_of_birth          |birthday_date|current_date|current_timestamp      |\n",
      "+------------+-----------------------+-------------+------------+-----------------------+\n",
      "|Jose        |1980-03-22 05:45:00.000|1980-03-22   |2021-03-14  |2021-03-14 13:04:29.155|\n",
      "|María Isabel|1982-12-10 21:45:00.000|1982-12-10   |2021-03-14  |2021-03-14 13:04:29.155|\n",
      "|Antonio     |1993-01-21 12:45:34.445|1993-01-21   |2021-03-14  |2021-03-14 13:04:29.155|\n",
      "|Norma       |1954-08-14 06:15:12.001|1954-08-14   |2021-03-14  |2021-03-14 13:04:29.155|\n",
      "+------------+-----------------------+-------------+------------+-----------------------+\n",
      "\n"
     ]
    },
    {
     "data": {
      "text/plain": [
       "import org.apache.spark.sql.functions._\n",
       "dfWithDate: org.apache.spark.sql.DataFrame = [name: string, date_of_birth: string ... 3 more fields]\n"
      ]
     },
     "execution_count": 2,
     "metadata": {},
     "output_type": "execute_result"
    }
   ],
   "source": [
    "import org.apache.spark.sql.functions._\n",
    "\n",
    "// current_date fecha actual\n",
    "// current_timestamp timestamp actual\n",
    "val dfWithDate = df.withColumn(\"current_date\", current_date()).withColumn(\"current_timestamp\", current_timestamp())\n",
    "dfWithDate.show(false)"
   ]
  },
  {
   "cell_type": "code",
   "execution_count": 3,
   "metadata": {},
   "outputs": [
    {
     "name": "stdout",
     "output_type": "stream",
     "text": [
      "+------------+-----------------------+-------------+------------+-----------------------+-------------------+\n",
      "|name        |date_of_birth          |birthday_date|current_date|current_timestamp      |first_birthday_date|\n",
      "+------------+-----------------------+-------------+------------+-----------------------+-------------------+\n",
      "|Jose        |1980-03-22 05:45:00.000|1980-03-22   |2021-03-14  |2021-03-14 13:04:39.309|1981-03-22         |\n",
      "|María Isabel|1982-12-10 21:45:00.000|1982-12-10   |2021-03-14  |2021-03-14 13:04:39.309|1983-12-10         |\n",
      "|Antonio     |1993-01-21 12:45:34.445|1993-01-21   |2021-03-14  |2021-03-14 13:04:39.309|1994-01-21         |\n",
      "|Norma       |1954-08-14 06:15:12.001|1954-08-14   |2021-03-14  |2021-03-14 13:04:39.309|1955-08-14         |\n",
      "+------------+-----------------------+-------------+------------+-----------------------+-------------------+\n",
      "\n"
     ]
    }
   ],
   "source": [
    "// date_add añade/suma un numero de días pasado como parametro a una fecha\n",
    "dfWithDate.withColumn(\"first_birthday_date\", date_add(col(\"birthday_date\"), 365)).show(false)"
   ]
  },
  {
   "cell_type": "code",
   "execution_count": 4,
   "metadata": {},
   "outputs": [
    {
     "name": "stdout",
     "output_type": "stream",
     "text": [
      "+------------+-----------------------+-------------+------------+-----------------------+----------------------+\n",
      "|name        |date_of_birth          |birthday_date|current_date|current_timestamp      |current_date_formatted|\n",
      "+------------+-----------------------+-------------+------------+-----------------------+----------------------+\n",
      "|Jose        |1980-03-22 05:45:00.000|1980-03-22   |2021-03-14  |2021-03-14 13:04:52.574|14/03/2021            |\n",
      "|María Isabel|1982-12-10 21:45:00.000|1982-12-10   |2021-03-14  |2021-03-14 13:04:52.574|14/03/2021            |\n",
      "|Antonio     |1993-01-21 12:45:34.445|1993-01-21   |2021-03-14  |2021-03-14 13:04:52.574|14/03/2021            |\n",
      "|Norma       |1954-08-14 06:15:12.001|1954-08-14   |2021-03-14  |2021-03-14 13:04:52.574|14/03/2021            |\n",
      "+------------+-----------------------+-------------+------------+-----------------------+----------------------+\n",
      "\n"
     ]
    }
   ],
   "source": [
    "// date_format para cambiar el formato de la fecha, en este ejemplo\n",
    "// se cambia al formato hispano dd/MM/yyyy\n",
    "dfWithDate.withColumn(\"current_date_formatted\", date_format(col(\"current_date\"), \"dd/MM/yyyy\")).show(false)"
   ]
  },
  {
   "cell_type": "code",
   "execution_count": 5,
   "metadata": {},
   "outputs": [
    {
     "name": "stdout",
     "output_type": "stream",
     "text": [
      "+------------+-----------------------+-------------+------------+-----------------------+-----------------------+\n",
      "|name        |date_of_birth          |birthday_date|current_date|current_timestamp      |current_date_1_year_ago|\n",
      "+------------+-----------------------+-------------+------------+-----------------------+-----------------------+\n",
      "|Jose        |1980-03-22 05:45:00.000|1980-03-22   |2021-03-14  |2021-03-14 13:05:04.102|2020-03-14             |\n",
      "|María Isabel|1982-12-10 21:45:00.000|1982-12-10   |2021-03-14  |2021-03-14 13:05:04.102|2020-03-14             |\n",
      "|Antonio     |1993-01-21 12:45:34.445|1993-01-21   |2021-03-14  |2021-03-14 13:05:04.102|2020-03-14             |\n",
      "|Norma       |1954-08-14 06:15:12.001|1954-08-14   |2021-03-14  |2021-03-14 13:05:04.102|2020-03-14             |\n",
      "+------------+-----------------------+-------------+------------+-----------------------+-----------------------+\n",
      "\n"
     ]
    }
   ],
   "source": [
    "// date_add añade/suma un numero de días pasado como parametro a una fecha\n",
    "dfWithDate.withColumn(\"current_date_1_year_ago\", date_sub(col(\"current_date\"), 365)).show(false)"
   ]
  },
  {
   "cell_type": "code",
   "execution_count": 6,
   "metadata": {},
   "outputs": [
    {
     "name": "stdout",
     "output_type": "stream",
     "text": [
      "+------------+-----------------------+-------------+------------+-----------------------+---------+\n",
      "|name        |date_of_birth          |birthday_date|current_date|current_timestamp      |date_diff|\n",
      "+------------+-----------------------+-------------+------------+-----------------------+---------+\n",
      "|Jose        |1980-03-22 05:45:00.000|1980-03-22   |2021-03-14  |2021-03-14 13:05:15.673|14967    |\n",
      "|María Isabel|1982-12-10 21:45:00.000|1982-12-10   |2021-03-14  |2021-03-14 13:05:15.673|13974    |\n",
      "|Antonio     |1993-01-21 12:45:34.445|1993-01-21   |2021-03-14  |2021-03-14 13:05:15.673|10279    |\n",
      "|Norma       |1954-08-14 06:15:12.001|1954-08-14   |2021-03-14  |2021-03-14 13:05:15.673|24319    |\n",
      "+------------+-----------------------+-------------+------------+-----------------------+---------+\n",
      "\n"
     ]
    }
   ],
   "source": [
    "// datediff Devuelve el número de días de diferencia entre 2 fechas\n",
    "dfWithDate.withColumn(\"date_diff\", datediff(col(\"current_date\"), col(\"birthday_date\"))).show(false)"
   ]
  },
  {
   "cell_type": "code",
   "execution_count": 7,
   "metadata": {},
   "outputs": [
    {
     "name": "stdout",
     "output_type": "stream",
     "text": [
      "+------------+-----------------------+-------------+------------+-----------------------+-----------+------------+-----------+\n",
      "|name        |date_of_birth          |birthday_date|current_date|current_timestamp      |day_of_year|day_of_month|day_of_week|\n",
      "+------------+-----------------------+-------------+------------+-----------------------+-----------+------------+-----------+\n",
      "|Jose        |1980-03-22 05:45:00.000|1980-03-22   |2021-03-14  |2021-03-14 13:05:26.386|73         |14          |1          |\n",
      "|María Isabel|1982-12-10 21:45:00.000|1982-12-10   |2021-03-14  |2021-03-14 13:05:26.386|73         |14          |1          |\n",
      "|Antonio     |1993-01-21 12:45:34.445|1993-01-21   |2021-03-14  |2021-03-14 13:05:26.386|73         |14          |1          |\n",
      "|Norma       |1954-08-14 06:15:12.001|1954-08-14   |2021-03-14  |2021-03-14 13:05:26.386|73         |14          |1          |\n",
      "+------------+-----------------------+-------------+------------+-----------------------+-----------+------------+-----------+\n",
      "\n"
     ]
    }
   ],
   "source": [
    "// day_of_year, day_of_month, day_of_week\n",
    "// Funciones para calcular el día del año, mes y de la semana respectivamente\n",
    "dfWithDate.withColumn(\"day_of_year\", dayofyear(col(\"current_timestamp\")))\n",
    "          .withColumn(\"day_of_month\", dayofmonth(col(\"current_timestamp\")))\n",
    "          .withColumn(\"day_of_week\", dayofweek(col(\"current_timestamp\"))).show(false)"
   ]
  },
  {
   "cell_type": "code",
   "execution_count": 8,
   "metadata": {},
   "outputs": [
    {
     "name": "stdout",
     "output_type": "stream",
     "text": [
      "+------------+-----------------------+-------------+------------+-----------------------+----+-----+----+------+------+\n",
      "|name        |date_of_birth          |birthday_date|current_date|current_timestamp      |year|month|hour|minute|second|\n",
      "+------------+-----------------------+-------------+------------+-----------------------+----+-----+----+------+------+\n",
      "|Jose        |1980-03-22 05:45:00.000|1980-03-22   |2021-03-14  |2021-03-14 13:05:36.884|2021|3    |13  |5     |36    |\n",
      "|María Isabel|1982-12-10 21:45:00.000|1982-12-10   |2021-03-14  |2021-03-14 13:05:36.884|2021|3    |13  |5     |36    |\n",
      "|Antonio     |1993-01-21 12:45:34.445|1993-01-21   |2021-03-14  |2021-03-14 13:05:36.884|2021|3    |13  |5     |36    |\n",
      "|Norma       |1954-08-14 06:15:12.001|1954-08-14   |2021-03-14  |2021-03-14 13:05:36.884|2021|3    |13  |5     |36    |\n",
      "+------------+-----------------------+-------------+------------+-----------------------+----+-----+----+------+------+\n",
      "\n"
     ]
    }
   ],
   "source": [
    "// year, month, hour, minute, second\n",
    "// Funciones para extraer de la fecha el año, mes, hora, minuto y segundo de una fecha\n",
    "dfWithDate.withColumn(\"year\", year(col(\"current_timestamp\")))\n",
    "          .withColumn(\"month\", month(col(\"current_timestamp\")))\n",
    "          .withColumn(\"hour\", hour(col(\"current_timestamp\")))\n",
    "          .withColumn(\"minute\", minute(col(\"current_timestamp\")))\n",
    "          .withColumn(\"second\", second(col(\"current_timestamp\"))).show(false)"
   ]
  },
  {
   "cell_type": "code",
   "execution_count": 9,
   "metadata": {},
   "outputs": [
    {
     "name": "stdout",
     "output_type": "stream",
     "text": [
      "+------------+-----------------------+-------------+------------+-----------------------+----+-----+----+------+------+\n",
      "|name        |date_of_birth          |birthday_date|current_date|current_timestamp      |year|month|hour|minute|second|\n",
      "+------------+-----------------------+-------------+------------+-----------------------+----+-----+----+------+------+\n",
      "|Jose        |1980-03-22 05:45:00.000|1980-03-22   |2021-03-14  |2021-03-14 13:05:47.482|1980|3    |5   |45    |0     |\n",
      "|María Isabel|1982-12-10 21:45:00.000|1982-12-10   |2021-03-14  |2021-03-14 13:05:47.482|1982|12   |21  |45    |0     |\n",
      "|Antonio     |1993-01-21 12:45:34.445|1993-01-21   |2021-03-14  |2021-03-14 13:05:47.482|1993|1    |12  |45    |34    |\n",
      "|Norma       |1954-08-14 06:15:12.001|1954-08-14   |2021-03-14  |2021-03-14 13:05:47.482|1954|8    |6   |15    |12    |\n",
      "+------------+-----------------------+-------------+------------+-----------------------+----+-----+----+------+------+\n",
      "\n"
     ]
    }
   ],
   "source": [
    "dfWithDate.withColumn(\"year\", year(col(\"date_of_birth\")))\n",
    "          .withColumn(\"month\", month(col(\"date_of_birth\")))\n",
    "          .withColumn(\"hour\", hour(col(\"date_of_birth\")))\n",
    "          .withColumn(\"minute\", minute(col(\"date_of_birth\")))\n",
    "          .withColumn(\"second\", second(col(\"date_of_birth\"))).show(false)"
   ]
  },
  {
   "cell_type": "code",
   "execution_count": 10,
   "metadata": {},
   "outputs": [
    {
     "name": "stdout",
     "output_type": "stream",
     "text": [
      "+------------+-----------------------+-------------+------------+-----------------------+--------------+\n",
      "|name        |date_of_birth          |birthday_date|current_date|current_timestamp      |months_between|\n",
      "+------------+-----------------------+-------------+------------+-----------------------+--------------+\n",
      "|Jose        |1980-03-22 05:45:00.000|1980-03-22   |2021-03-14  |2021-03-14 13:05:58.152|491.75181377  |\n",
      "|María Isabel|1982-12-10 21:45:00.000|1982-12-10   |2021-03-14  |2021-03-14 13:05:58.152|459.11740517  |\n",
      "|Antonio     |1993-01-21 12:45:34.445|1993-01-21   |2021-03-14  |2021-03-14 13:05:58.152|337.77465054  |\n",
      "|Norma       |1954-08-14 06:15:12.001|1954-08-14   |2021-03-14  |2021-03-14 13:05:58.152|799.0         |\n",
      "+------------+-----------------------+-------------+------------+-----------------------+--------------+\n",
      "\n"
     ]
    }
   ],
   "source": [
    "// months_between Función para obtener la diferencia de meses entre 2 fechas, \n",
    "// por defecto (salvo que se indique lo contrario con el 3 argumento) redondea decimales a 8 cifras\n",
    "dfWithDate.withColumn(\"months_between\", months_between(col(\"current_timestamp\"), col(\"date_of_birth\"))).show(false)"
   ]
  },
  {
   "cell_type": "code",
   "execution_count": 11,
   "metadata": {},
   "outputs": [
    {
     "name": "stdout",
     "output_type": "stream",
     "text": [
      "+------------+-----------------------+-------------+------------+----------------------+-----------------+\n",
      "|name        |date_of_birth          |birthday_date|current_date|current_timestamp     |months_between   |\n",
      "+------------+-----------------------+-------------+------------+----------------------+-----------------+\n",
      "|Jose        |1980-03-22 05:45:00.000|1980-03-22   |2021-03-14  |2021-03-14 13:06:07.85|491.7518171296296|\n",
      "|María Isabel|1982-12-10 21:45:00.000|1982-12-10   |2021-03-14  |2021-03-14 13:06:07.85|459.1174085274791|\n",
      "|Antonio     |1993-01-21 12:45:34.445|1993-01-21   |2021-03-14  |2021-03-14 13:06:07.85|337.7746538978495|\n",
      "|Norma       |1954-08-14 06:15:12.001|1954-08-14   |2021-03-14  |2021-03-14 13:06:07.85|799.0            |\n",
      "+------------+-----------------------+-------------+------------+----------------------+-----------------+\n",
      "\n"
     ]
    }
   ],
   "source": [
    "dfWithDate.withColumn(\"months_between\", months_between(col(\"current_timestamp\"), col(\"date_of_birth\"), false)).show(false)"
   ]
  },
  {
   "cell_type": "code",
   "execution_count": 12,
   "metadata": {},
   "outputs": [
    {
     "name": "stdout",
     "output_type": "stream",
     "text": [
      "+------------+-----------------------+-------------+------------+-----------------------+-----------+\n",
      "|name        |date_of_birth          |birthday_date|current_date|current_timestamp      |next_friday|\n",
      "+------------+-----------------------+-------------+------------+-----------------------+-----------+\n",
      "|Jose        |1980-03-22 05:45:00.000|1980-03-22   |2021-03-14  |2021-03-14 13:06:19.071|2021-03-19 |\n",
      "|María Isabel|1982-12-10 21:45:00.000|1982-12-10   |2021-03-14  |2021-03-14 13:06:19.071|2021-03-19 |\n",
      "|Antonio     |1993-01-21 12:45:34.445|1993-01-21   |2021-03-14  |2021-03-14 13:06:19.071|2021-03-19 |\n",
      "|Norma       |1954-08-14 06:15:12.001|1954-08-14   |2021-03-14  |2021-03-14 13:06:19.071|2021-03-19 |\n",
      "+------------+-----------------------+-------------+------------+-----------------------+-----------+\n",
      "\n"
     ]
    }
   ],
   "source": [
    "// next_day función que nos devuelve que fecha será el proximo día, en el ejemplo cuando será el póximo viernes\n",
    "dfWithDate.withColumn(\"next_friday\", next_day(col(\"current_timestamp\"), \"Fri\")).show(false)"
   ]
  },
  {
   "cell_type": "code",
   "execution_count": 13,
   "metadata": {},
   "outputs": [
    {
     "name": "stdout",
     "output_type": "stream",
     "text": [
      "+------------+-----------------------+-------------+------------+-----------------------+---------------------+\n",
      "|name        |date_of_birth          |birthday_date|current_date|current_timestamp      |date_of_birth_to_date|\n",
      "+------------+-----------------------+-------------+------------+-----------------------+---------------------+\n",
      "|Jose        |1980-03-22 05:45:00.000|1980-03-22   |2021-03-14  |2021-03-14 13:06:30.703|1980-03-22           |\n",
      "|María Isabel|1982-12-10 21:45:00.000|1982-12-10   |2021-03-14  |2021-03-14 13:06:30.703|1982-12-10           |\n",
      "|Antonio     |1993-01-21 12:45:34.445|1993-01-21   |2021-03-14  |2021-03-14 13:06:30.703|1993-01-21           |\n",
      "|Norma       |1954-08-14 06:15:12.001|1954-08-14   |2021-03-14  |2021-03-14 13:06:30.703|1954-08-14           |\n",
      "+------------+-----------------------+-------------+------------+-----------------------+---------------------+\n",
      "\n"
     ]
    }
   ],
   "source": [
    "// to_date obtener una fecha a partir de un timestamp\n",
    "dfWithDate.withColumn(\"date_of_birth_to_date\", to_date(col(\"date_of_birth\"), \"yyyy-MM-dd HH:mm:ss.SSSS\")).show(false)"
   ]
  },
  {
   "cell_type": "code",
   "execution_count": 14,
   "metadata": {},
   "outputs": [
    {
     "name": "stdout",
     "output_type": "stream",
     "text": [
      "+------------+-----------------------+-------------+------------+-----------------------+------------------------+-------------------+\n",
      "|name        |date_of_birth          |birthday_date|current_date|current_timestamp      |to_timestamp_with_format|to_timestamp       |\n",
      "+------------+-----------------------+-------------+------------+-----------------------+------------------------+-------------------+\n",
      "|Jose        |1980-03-22 05:45:00.000|1980-03-22   |2021-03-14  |2021-03-14 13:06:40.281|2021-03-14 00:00:00     |2021-03-14 00:00:00|\n",
      "|María Isabel|1982-12-10 21:45:00.000|1982-12-10   |2021-03-14  |2021-03-14 13:06:40.281|2021-03-14 00:00:00     |2021-03-14 00:00:00|\n",
      "|Antonio     |1993-01-21 12:45:34.445|1993-01-21   |2021-03-14  |2021-03-14 13:06:40.281|2021-03-14 00:00:00     |2021-03-14 00:00:00|\n",
      "|Norma       |1954-08-14 06:15:12.001|1954-08-14   |2021-03-14  |2021-03-14 13:06:40.281|2021-03-14 00:00:00     |2021-03-14 00:00:00|\n",
      "+------------+-----------------------+-------------+------------+-----------------------+------------------------+-------------------+\n",
      "\n"
     ]
    }
   ],
   "source": [
    "// to_timestamp convierte a formato timestamp una fecha\n",
    "dfWithDate.withColumn(\"to_timestamp_with_format\", to_timestamp(col(\"current_date\"), \"yyyy-MM-dd HH:mm:ss.SSSS\"))\n",
    "          .withColumn(\"to_timestamp\", to_timestamp(col(\"current_date\"))).show(false)"
   ]
  },
  {
   "cell_type": "code",
   "execution_count": 15,
   "metadata": {},
   "outputs": [
    {
     "name": "stdout",
     "output_type": "stream",
     "text": [
      "+------------+--------------------+-------------+------------+--------------------+-----------------------------------------+----------------------------------+---------------------+\n",
      "|        name|       date_of_birth|birthday_date|current_date|   current_timestamp|current_date_to_unixtimestamp_with_format|current_timestamp_to_unixtimestamp|current_unixtimestamp|\n",
      "+------------+--------------------+-------------+------------+--------------------+-----------------------------------------+----------------------------------+---------------------+\n",
      "|        Jose|1980-03-22 05:45:...|   1980-03-22|  2021-03-14|2021-03-14 13:06:...|                               1615676400|                        1615723610|           1615723610|\n",
      "|María Isabel|1982-12-10 21:45:...|   1982-12-10|  2021-03-14|2021-03-14 13:06:...|                               1615676400|                        1615723610|           1615723610|\n",
      "|     Antonio|1993-01-21 12:45:...|   1993-01-21|  2021-03-14|2021-03-14 13:06:...|                               1615676400|                        1615723610|           1615723610|\n",
      "|       Norma|1954-08-14 06:15:...|   1954-08-14|  2021-03-14|2021-03-14 13:06:...|                               1615676400|                        1615723610|           1615723610|\n",
      "+------------+--------------------+-------------+------------+--------------------+-----------------------------------------+----------------------------------+---------------------+\n",
      "\n"
     ]
    }
   ],
   "source": [
    "// unix_timestamp devuelve un timestamp Unix (segundos desde '1970-01-01 00:00:00' GMT) para una fecha pasado como parametro\n",
    "// unix_timestamp sin parametro devuelve los segundos que han transcurrido desde 1970-01-01 hasta ahora\n",
    "dfWithDate.withColumn(\"current_date_to_unixtimestamp_with_format\", unix_timestamp(col(\"current_date\"), \"yyyy-MM-dd\"))\n",
    "          .withColumn(\"current_timestamp_to_unixtimestamp\", unix_timestamp(col(\"current_timestamp\")))\n",
    "          .withColumn(\"current_unixtimestamp\", unix_timestamp()).show()"
   ]
  },
  {
   "cell_type": "code",
   "execution_count": 16,
   "metadata": {},
   "outputs": [
    {
     "name": "stdout",
     "output_type": "stream",
     "text": [
      "+------------+--------------------+-------------+------------+--------------------+------------------+-----------------+\n",
      "|        name|       date_of_birth|birthday_date|current_date|   current_timestamp|date_of_birth_week|current_date_week|\n",
      "+------------+--------------------+-------------+------------+--------------------+------------------+-----------------+\n",
      "|        Jose|1980-03-22 05:45:...|   1980-03-22|  2021-03-14|2021-03-14 13:07:...|                12|               10|\n",
      "|María Isabel|1982-12-10 21:45:...|   1982-12-10|  2021-03-14|2021-03-14 13:07:...|                49|               10|\n",
      "|     Antonio|1993-01-21 12:45:...|   1993-01-21|  2021-03-14|2021-03-14 13:07:...|                 3|               10|\n",
      "|       Norma|1954-08-14 06:15:...|   1954-08-14|  2021-03-14|2021-03-14 13:07:...|                32|               10|\n",
      "+------------+--------------------+-------------+------------+--------------------+------------------+-----------------+\n",
      "\n"
     ]
    }
   ],
   "source": [
    "// weekofyear devuelve la semana del año a la que corresponde una determinada fecha\n",
    "dfWithDate.withColumn(\"date_of_birth_week\", weekofyear(col(\"date_of_birth\")))\n",
    "          .withColumn(\"current_date_week\", weekofyear(col(\"current_date\"))).show()"
   ]
  },
  {
   "cell_type": "code",
   "execution_count": 17,
   "metadata": {},
   "outputs": [
    {
     "name": "stdout",
     "output_type": "stream",
     "text": [
      "+------------+-----------------------+-------------+------------+----------------------+---------------------+-------------------+----------------------------+\n",
      "|name        |date_of_birth          |birthday_date|current_date|current_timestamp     |current_unixtimestamp|from_unixtimestamp |from_unixtimestamp_formatted|\n",
      "+------------+-----------------------+-------------+------------+----------------------+---------------------+-------------------+----------------------------+\n",
      "|Jose        |1980-03-22 05:45:00.000|1980-03-22   |2021-03-14  |2021-03-14 13:07:28.62|1615723648           |2021-03-14 13:07:28|14/03/2021                  |\n",
      "|María Isabel|1982-12-10 21:45:00.000|1982-12-10   |2021-03-14  |2021-03-14 13:07:28.62|1615723648           |2021-03-14 13:07:28|14/03/2021                  |\n",
      "|Antonio     |1993-01-21 12:45:34.445|1993-01-21   |2021-03-14  |2021-03-14 13:07:28.62|1615723648           |2021-03-14 13:07:28|14/03/2021                  |\n",
      "|Norma       |1954-08-14 06:15:12.001|1954-08-14   |2021-03-14  |2021-03-14 13:07:28.62|1615723648           |2021-03-14 13:07:28|14/03/2021                  |\n",
      "+------------+-----------------------+-------------+------------+----------------------+---------------------+-------------------+----------------------------+\n",
      "\n"
     ]
    },
    {
     "data": {
      "text/plain": [
       "dfWithCurrentUnixtimestamp: org.apache.spark.sql.DataFrame = [name: string, date_of_birth: string ... 4 more fields]\n"
      ]
     },
     "execution_count": 17,
     "metadata": {},
     "output_type": "execute_result"
    }
   ],
   "source": [
    "// from_unixtime devuelve una fecha (con formato especifico o timestamp) a partir de un unix timestamp\n",
    "val dfWithCurrentUnixtimestamp = dfWithDate.withColumn(\"current_unixtimestamp\", unix_timestamp())\n",
    "dfWithCurrentUnixtimestamp.withColumn(\"from_unixtimestamp\", from_unixtime(col(\"current_unixtimestamp\")))\n",
    "                          .withColumn(\"from_unixtimestamp_formatted\", from_unixtime(col(\"current_unixtimestamp\"), \"dd/MM/yyyy\")).show(false)"
   ]
  },
  {
   "cell_type": "code",
   "execution_count": 18,
   "metadata": {},
   "outputs": [
    {
     "name": "stdout",
     "output_type": "stream",
     "text": [
      "+------------+--------------------+-------------+------------+--------------------+----------+----------+----------------+----------+-----------+\n",
      "|        name|       date_of_birth|birthday_date|current_date|   current_timestamp| last_date|trunc_year|trunc_year_month|trunc_week|trunc_year2|\n",
      "+------------+--------------------+-------------+------------+--------------------+----------+----------+----------------+----------+-----------+\n",
      "|        Jose|1980-03-22 05:45:...|   1980-03-22|  2021-03-14|2021-03-14 13:07:...|2021-03-31|2021-01-01|      2021-03-01|2021-03-08| 2021-01-01|\n",
      "|María Isabel|1982-12-10 21:45:...|   1982-12-10|  2021-03-14|2021-03-14 13:07:...|2021-03-31|2021-01-01|      2021-03-01|2021-03-08| 2021-01-01|\n",
      "|     Antonio|1993-01-21 12:45:...|   1993-01-21|  2021-03-14|2021-03-14 13:07:...|2021-03-31|2021-01-01|      2021-03-01|2021-03-08| 2021-01-01|\n",
      "|       Norma|1954-08-14 06:15:...|   1954-08-14|  2021-03-14|2021-03-14 13:07:...|2021-03-31|2021-01-01|      2021-03-01|2021-03-08| 2021-01-01|\n",
      "+------------+--------------------+-------------+------------+--------------------+----------+----------+----------------+----------+-----------+\n",
      "\n"
     ]
    }
   ],
   "source": [
    "// last_date devuelve la fecha que corresponde al último día del mes al que pertenece la fecha pasada como parametro\n",
    "// trunc trunca una fecha por año, mes, semana\n",
    "dfWithDate.withColumn(\"last_date\", last_day(col(\"current_date\")))\n",
    "          .withColumn(\"trunc_year\", trunc(col(\"current_date\"), \"yyyy\"))\n",
    "          .withColumn(\"trunc_year_month\", trunc(col(\"current_date\"), \"MM\"))\n",
    "          .withColumn(\"trunc_week\", trunc(col(\"current_date\"), \"week\"))\n",
    "          .withColumn(\"trunc_year2\", trunc(col(\"current_date\"), \"year\")).show()"
   ]
  },
  {
   "cell_type": "code",
   "execution_count": 19,
   "metadata": {},
   "outputs": [
    {
     "name": "stdout",
     "output_type": "stream",
     "text": [
      "+------------+--------------------+-------------+------------+--------------------+-------------------+-------------------+-------------------+\n",
      "|        name|       date_of_birth|birthday_date|current_date|   current_timestamp|    date_trunc_year|   date_trunc_month|     date_trunc_day|\n",
      "+------------+--------------------+-------------+------------+--------------------+-------------------+-------------------+-------------------+\n",
      "|        Jose|1980-03-22 05:45:...|   1980-03-22|  2021-03-14|2021-03-14 13:07:...|2021-01-01 00:00:00|2021-03-01 00:00:00|2021-03-14 00:00:00|\n",
      "|María Isabel|1982-12-10 21:45:...|   1982-12-10|  2021-03-14|2021-03-14 13:07:...|2021-01-01 00:00:00|2021-03-01 00:00:00|2021-03-14 00:00:00|\n",
      "|     Antonio|1993-01-21 12:45:...|   1993-01-21|  2021-03-14|2021-03-14 13:07:...|2021-01-01 00:00:00|2021-03-01 00:00:00|2021-03-14 00:00:00|\n",
      "|       Norma|1954-08-14 06:15:...|   1954-08-14|  2021-03-14|2021-03-14 13:07:...|2021-01-01 00:00:00|2021-03-01 00:00:00|2021-03-14 00:00:00|\n",
      "+------------+--------------------+-------------+------------+--------------------+-------------------+-------------------+-------------------+\n",
      "\n"
     ]
    }
   ],
   "source": [
    "// date_trunc devuelve un timestamp truncado\n",
    "dfWithDate.withColumn(\"date_trunc_year\", date_trunc(\"yyyy\", col(\"current_timestamp\")))\n",
    "          .withColumn(\"date_trunc_month\", date_trunc(\"MM\", col(\"current_timestamp\")))\n",
    "          .withColumn(\"date_trunc_day\", date_trunc(\"dd\", col(\"current_timestamp\"))).show()"
   ]
  },
  {
   "cell_type": "code",
   "execution_count": null,
   "metadata": {},
   "outputs": [],
   "source": []
  }
 ],
 "metadata": {
  "kernelspec": {
   "display_name": "spylon-kernel",
   "language": "scala",
   "name": "spylon-kernel"
  },
  "language_info": {
   "codemirror_mode": "text/x-scala",
   "file_extension": ".scala",
   "help_links": [
    {
     "text": "MetaKernel Magics",
     "url": "https://metakernel.readthedocs.io/en/latest/source/README.html"
    }
   ],
   "mimetype": "text/x-scala",
   "name": "scala",
   "pygments_lexer": "scala",
   "version": "0.4.1"
  }
 },
 "nbformat": 4,
 "nbformat_minor": 2
}
