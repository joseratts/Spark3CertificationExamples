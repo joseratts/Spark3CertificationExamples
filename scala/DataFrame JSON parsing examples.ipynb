{
 "cells": [
  {
   "cell_type": "markdown",
   "metadata": {},
   "source": [
    "Notebook dedicado a explorar distintos métodos de parsing de datos en formato JSON"
   ]
  },
  {
   "cell_type": "code",
   "execution_count": 1,
   "metadata": {},
   "outputs": [
    {
     "data": {
      "text/plain": [
       "Intitializing Scala interpreter ..."
      ]
     },
     "metadata": {},
     "output_type": "display_data"
    },
    {
     "data": {
      "text/plain": [
       "Spark Web UI available at http://192.168.1.36:4041\n",
       "SparkContext available as 'sc' (version = 3.0.2, master = local[*], app id = local-1615756990306)\n",
       "SparkSession available as 'spark'\n"
      ]
     },
     "metadata": {},
     "output_type": "display_data"
    },
    {
     "name": "stdout",
     "output_type": "stream",
     "text": [
      "+---+---------------------------------------------------------------------------------------------------------------+\n",
      "|ID |JSON_value                                                                                                     |\n",
      "+---+---------------------------------------------------------------------------------------------------------------+\n",
      "|1  |{\"name\": \"Jose\", \"age\": 40, \"weight\": 74, \"height\": 1.63, \"sex\": 'm', \"citizenship\": [\"Venezuelan\", \"Spanish\"]}|\n",
      "|2  |{\"name\": \"María Isabel\", \"age\": 38, \"weight\": 58, \"height\": 1.65, \"sex\": 'f', \"citizenship\": [\"Venezuelan\"]}   |\n",
      "|3  |{\"name\": \"Antonio\", \"age\": 27, \"weight\": 60, \"height\": 1.68, \"sex\": 'm', \"citizenship\": [\"Venezuelan\"]}        |\n",
      "|4  |{\"name\": \"Norma\", \"age\": 63, \"weight\": 65, \"height\": 1.54, \"sex\": 'f', \"citizenship\": [\"Venezuelan\"]}          |\n",
      "+---+---------------------------------------------------------------------------------------------------------------+\n",
      "\n"
     ]
    },
    {
     "data": {
      "text/plain": [
       "import spark.implicits._\n",
       "columns: Seq[String] = List(ID, JSON_value)\n",
       "data: Seq[(Int, String)] = List((1,{\"name\": \"Jose\", \"age\": 40, \"weight\": 74, \"height\": 1.63, \"sex\": 'm', \"citizenship\": [\"Venezuelan\", \"Spanish\"]}), (2,{\"name\": \"María Isabel\", \"age\": 38, \"weight\": 58, \"height\": 1.65, \"sex\": 'f', \"citizenship\": [\"Venezuelan\"]}), (3,{\"name\": \"Antonio\", \"age\": 27, \"weight\": 60, \"height\": 1.68, \"sex\": 'm', \"citizenship\": [\"Venezuelan\"]}), (4,{\"name\": \"Norma\", \"age\": 63, \"weight\": 65, \"height\": 1.54, \"sex\": 'f', \"citizenship\": [\"Venezuelan\"]}))\n",
       "df: org.apache.spark.sql.DataFrame = [ID: int, JSON_value: string]\n"
      ]
     },
     "execution_count": 1,
     "metadata": {},
     "output_type": "execute_result"
    }
   ],
   "source": [
    "import spark.implicits._\n",
    "val columns = Seq(\"ID\",\"JSON_value\")\n",
    "val data = Seq(\n",
    "  (1, \"\"\"{\"name\": \"Jose\", \"age\": 40, \"weight\": 74, \"height\": 1.63, \"sex\": 'm', \"citizenship\": [\"Venezuelan\", \"Spanish\"]}\"\"\"), \n",
    "  (2, \"\"\"{\"name\": \"María Isabel\", \"age\": 38, \"weight\": 58, \"height\": 1.65, \"sex\": 'f', \"citizenship\": [\"Venezuelan\"]}\"\"\"), \n",
    "  (3, \"\"\"{\"name\": \"Antonio\", \"age\": 27, \"weight\": 60, \"height\": 1.68, \"sex\": 'm', \"citizenship\": [\"Venezuelan\"]}\"\"\"), \n",
    "  (4, \"\"\"{\"name\": \"Norma\", \"age\": 63, \"weight\": 65, \"height\": 1.54, \"sex\": 'f', \"citizenship\": [\"Venezuelan\"]}\"\"\")\n",
    "  )\n",
    "\n",
    "val df = data.toDF(columns:_*)\n",
    "\n",
    "df.show(false)"
   ]
  },
  {
   "cell_type": "code",
   "execution_count": 2,
   "metadata": {},
   "outputs": [
    {
     "name": "stdout",
     "output_type": "stream",
     "text": [
      "+---+------------+---+\n",
      "| ID|        name|sex|\n",
      "+---+------------+---+\n",
      "|  1|        Jose|  m|\n",
      "|  2|María Isabel|  f|\n",
      "|  3|     Antonio|  m|\n",
      "|  4|       Norma|  f|\n",
      "+---+------------+---+\n",
      "\n"
     ]
    },
    {
     "data": {
      "text/plain": [
       "import org.apache.spark.sql.functions._\n",
       "extractedColumnJSONDF: org.apache.spark.sql.DataFrame = [ID: int, name: string ... 1 more field]\n"
      ]
     },
     "execution_count": 2,
     "metadata": {},
     "output_type": "execute_result"
    }
   ],
   "source": [
    "import org.apache.spark.sql.functions._\n",
    "\n",
    "val extractedColumnJSONDF = df.select($\"ID\", get_json_object($\"JSON_value\", \"$.name\").alias(\"name\"), get_json_object($\"JSON_value\", \"$.sex\").alias(\"sex\"))\n",
    "extractedColumnJSONDF.show()"
   ]
  },
  {
   "cell_type": "code",
   "execution_count": 3,
   "metadata": {},
   "outputs": [
    {
     "name": "stdout",
     "output_type": "stream",
     "text": [
      "+-------------------+\n",
      "|count(DISTINCT sex)|\n",
      "+-------------------+\n",
      "|                  2|\n",
      "+-------------------+\n",
      "\n"
     ]
    }
   ],
   "source": [
    "extractedColumnJSONDF.select(countDistinct(\"sex\")).show()"
   ]
  },
  {
   "cell_type": "code",
   "execution_count": 4,
   "metadata": {},
   "outputs": [
    {
     "name": "stdout",
     "output_type": "stream",
     "text": [
      "+---+----------------------------------------------+\n",
      "|ID |jsonData                                      |\n",
      "+---+----------------------------------------------+\n",
      "|1  |[Jose, 40, 74, 1.63, m, [Venezuelan, Spanish]]|\n",
      "|2  |[María Isabel, 38, 58, 1.65, f, [Venezuelan]] |\n",
      "|3  |[Antonio, 27, 60, 1.68, m, [Venezuelan]]      |\n",
      "|4  |[Norma, 63, 65, 1.54, f, [Venezuelan]]        |\n",
      "+---+----------------------------------------------+\n",
      "\n"
     ]
    },
    {
     "data": {
      "text/plain": [
       "import org.apache.spark.sql.types.{StringType, StructField, IntegerType, FloatType, StructType, ArrayType}\n",
       "schema: org.apache.spark.sql.types.StructType = StructType(StructField(name,StringType,true), StructField(age,IntegerType,true), StructField(weight,IntegerType,true), StructField(height,FloatType,true), StructField(sex,StringType,true), StructField(citizenship,ArrayType(StringType,true),true))\n",
       "from_jsonDF: org.apache.spark.sql.DataFrame = [ID: int, jsonData: struct<name: string, age: int ... 4 more fields>]\n"
      ]
     },
     "execution_count": 4,
     "metadata": {},
     "output_type": "execute_result"
    }
   ],
   "source": [
    "import org.apache.spark.sql.types.{StringType, StructField, IntegerType, FloatType, StructType, ArrayType}\n",
    "\n",
    "// Si se omite un campo en la estructura el proceso no falla, sencillamente hace caso omiso de la existencia de este\n",
    "val schema = StructType(\n",
    "  Array(\n",
    "    StructField(\"name\", StringType, true),\n",
    "    StructField(\"age\", IntegerType, true),\n",
    "    StructField(\"weight\", IntegerType, true),\n",
    "    StructField(\"height\", FloatType, true),\n",
    "    StructField(\"sex\", StringType, true),\n",
    "    StructField(\"citizenship\", ArrayType(StringType, true), true)\n",
    "    )\n",
    "  )\n",
    "    \n",
    "val from_jsonDF = df.select($\"ID\", from_json($\"JSON_value\", schema).as(\"jsonData\"))\n",
    "from_jsonDF.show(false)"
   ]
  },
  {
   "cell_type": "code",
   "execution_count": 5,
   "metadata": {},
   "outputs": [
    {
     "name": "stdout",
     "output_type": "stream",
     "text": [
      "+---+------------+---+------+------+---+---------------------+\n",
      "|ID |name        |age|weight|height|sex|citizenship          |\n",
      "+---+------------+---+------+------+---+---------------------+\n",
      "|1  |Jose        |40 |74    |1.63  |m  |[Venezuelan, Spanish]|\n",
      "|2  |María Isabel|38 |58    |1.65  |f  |[Venezuelan]         |\n",
      "|3  |Antonio     |27 |60    |1.68  |m  |[Venezuelan]         |\n",
      "|4  |Norma       |63 |65    |1.54  |f  |[Venezuelan]         |\n",
      "+---+------------+---+------+------+---+---------------------+\n",
      "\n"
     ]
    }
   ],
   "source": [
    "from_jsonDF.select(\"ID\",\"jsonData.*\").show(false)"
   ]
  },
  {
   "cell_type": "code",
   "execution_count": 6,
   "metadata": {},
   "outputs": [
    {
     "name": "stdout",
     "output_type": "stream",
     "text": [
      "+-----------------------------------------------------------------------------------------------+\n",
      "|schema_of_json                                                                                 |\n",
      "+-----------------------------------------------------------------------------------------------+\n",
      "|struct<age:bigint,citizenship:array<string>,height:double,name:string,sex:string,weight:bigint>|\n",
      "|struct<age:bigint,citizenship:array<string>,height:double,name:string,sex:string,weight:bigint>|\n",
      "|struct<age:bigint,citizenship:array<string>,height:double,name:string,sex:string,weight:bigint>|\n",
      "|struct<age:bigint,citizenship:array<string>,height:double,name:string,sex:string,weight:bigint>|\n",
      "+-----------------------------------------------------------------------------------------------+\n",
      "\n"
     ]
    }
   ],
   "source": [
    "df.select(schema_of_json(df.select($\"JSON_value\").first().getString(0)).as(\"schema_of_json\")).show(false)"
   ]
  },
  {
   "cell_type": "code",
   "execution_count": 11,
   "metadata": {},
   "outputs": [
    {
     "name": "stdout",
     "output_type": "stream",
     "text": [
      "+-----------------------------------------------------------------------------------------------+\n",
      "|schema_of_json                                                                                 |\n",
      "+-----------------------------------------------------------------------------------------------+\n",
      "|struct<age:bigint,citizenship:array<string>,height:double,name:string,sex:string,weight:bigint>|\n",
      "|struct<age:bigint,citizenship:array<string>,height:double,name:string,sex:string,weight:bigint>|\n",
      "|struct<age:bigint,citizenship:array<string>,height:double,name:string,sex:string,weight:bigint>|\n",
      "|struct<age:bigint,citizenship:array<string>,height:double,name:string,sex:string,weight:bigint>|\n",
      "+-----------------------------------------------------------------------------------------------+\n",
      "\n"
     ]
    }
   ],
   "source": [
    "// No ha funcionado pasandole la columna\n",
    "df.select(schema_of_json(df.select($\"JSON_value\").as[String].first).as(\"schema_of_json\")).show(false)"
   ]
  },
  {
   "cell_type": "code",
   "execution_count": 8,
   "metadata": {},
   "outputs": [
    {
     "name": "stdout",
     "output_type": "stream",
     "text": [
      "+------------+------+---+\n",
      "|name        |height|sex|\n",
      "+------------+------+---+\n",
      "|Jose        |1.63  |m  |\n",
      "|María Isabel|1.65  |f  |\n",
      "|Antonio     |1.68  |m  |\n",
      "|Norma       |1.54  |f  |\n",
      "+------------+------+---+\n",
      "\n"
     ]
    }
   ],
   "source": [
    "// json_tuple permite extraer en forma de columnas varios elementos del JSON, aquellos atributos indicados\n",
    "// Si no le otorgamos un alias a las columnas cada nueva columna se llamará c0, c1, c2 y asi sucesivamente\n",
    "// Aprovechamos la sobrecarga del método as para otorgar alias a las nuevas columnas\n",
    "df.select(json_tuple($\"JSON_value\", \"name\", \"height\", \"sex\").as(Array(\"name\", \"height\", \"sex\"))).show(false)"
   ]
  },
  {
   "cell_type": "code",
   "execution_count": 9,
   "metadata": {},
   "outputs": [
    {
     "name": "stdout",
     "output_type": "stream",
     "text": [
      "+----------------------------------------+\n",
      "|to_csv(jsonData)                        |\n",
      "+----------------------------------------+\n",
      "|Jose,40,74,1.63,m,\"[Venezuelan,Spanish]\"|\n",
      "|María Isabel,38,58,1.65,f,[Venezuelan]  |\n",
      "|Antonio,27,60,1.68,m,[Venezuelan]       |\n",
      "|Norma,63,65,1.54,f,[Venezuelan]         |\n",
      "+----------------------------------------+\n",
      "\n"
     ]
    }
   ],
   "source": [
    "// Es necesario un tipo de dato que sea un structype, ArrayType o MapTYpe\n",
    "from_jsonDF.select(to_csv($\"jsonData\")).show(false)"
   ]
  },
  {
   "cell_type": "code",
   "execution_count": 10,
   "metadata": {},
   "outputs": [
    {
     "name": "stdout",
     "output_type": "stream",
     "text": [
      "+------------------------------------------------------------+\n",
      "|transform(jsonData.citizenship, lambdafunction(upper(x), x))|\n",
      "+------------------------------------------------------------+\n",
      "|[VENEZUELAN, SPANISH]                                       |\n",
      "|[VENEZUELAN]                                                |\n",
      "|[VENEZUELAN]                                                |\n",
      "|[VENEZUELAN]                                                |\n",
      "+------------------------------------------------------------+\n",
      "\n"
     ]
    }
   ],
   "source": [
    "// El método transform opera sobre un array de elementos aplicando una lambda pero utilizando funciones propias del paquete sql (p.e. upper) o nativas (p.e x+1)\n",
    "from_jsonDF.select(transform($\"jsonData.citizenship\", x => upper(x))).show(false)"
   ]
  },
  {
   "cell_type": "code",
   "execution_count": null,
   "metadata": {},
   "outputs": [],
   "source": []
  }
 ],
 "metadata": {
  "kernelspec": {
   "display_name": "spylon-kernel",
   "language": "scala",
   "name": "spylon-kernel"
  },
  "language_info": {
   "codemirror_mode": "text/x-scala",
   "file_extension": ".scala",
   "help_links": [
    {
     "text": "MetaKernel Magics",
     "url": "https://metakernel.readthedocs.io/en/latest/source/README.html"
    }
   ],
   "mimetype": "text/x-scala",
   "name": "scala",
   "pygments_lexer": "scala",
   "version": "0.4.1"
  }
 },
 "nbformat": 4,
 "nbformat_minor": 2
}
