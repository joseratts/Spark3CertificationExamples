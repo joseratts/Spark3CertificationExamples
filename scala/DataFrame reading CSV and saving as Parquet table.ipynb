{
 "cells": [
  {
   "cell_type": "markdown",
   "metadata": {},
   "source": [
    "Notebook dedicado a explorar métodos de lectura y escritura de un DF así como el particionado de los datos. Para ello se trabajara con un fichero del portal de datos abiertos del ayuntamiento de Madrid, especificamente el Padron de Madrid, fichero CSV el cual es necesario realizar un tratamiento previo sobre los datos.\n",
    "\n",
    "En este Notebook leeremos datos en formato CSV y se almacena en los formatos (para posteriormente hacer pruebas):\n",
    "\n",
    "CSV\n",
    "JSON\n",
    "Parquet\n",
    "Parquet partitionado"
   ]
  },
  {
   "cell_type": "code",
   "execution_count": 1,
   "metadata": {},
   "outputs": [
    {
     "data": {
      "text/plain": [
       "Intitializing Scala interpreter ..."
      ]
     },
     "metadata": {},
     "output_type": "display_data"
    },
    {
     "data": {
      "text/plain": [
       "Spark Web UI available at http://192.168.1.36:4044\n",
       "SparkContext available as 'sc' (version = 3.0.2, master = local[*], app id = local-1615757653988)\n",
       "SparkSession available as 'spark'\n"
      ]
     },
     "metadata": {},
     "output_type": "display_data"
    },
    {
     "name": "stdout",
     "output_type": "stream",
     "text": [
      "+------------+--------------------+---------------+--------------------+----------+----------------+-----------+------------+----------------+----------------+------------------+------------------+\n",
      "|COD_DISTRITO|       DESC_DISTRITO|COD_DIST_BARRIO|         DESC_BARRIO|COD_BARRIO|COD_DIST_SECCION|COD_SECCION|COD_EDAD_INT|EspanolesHombres|EspanolesMujeres|ExtranjerosHombres|ExtranjerosMujeres|\n",
      "+------------+--------------------+---------------+--------------------+----------+----------------+-----------+------------+----------------+----------------+------------------+------------------+\n",
      "|           1|CENTRO              |            101|PALACIO             |         1|            1006|          6|         103|               0|               1|                 0|                 0|\n",
      "|           1|CENTRO              |            101|PALACIO             |         1|            1007|          7|           0|               1|               1|                 0|                 3|\n",
      "|           1|CENTRO              |            101|PALACIO             |         1|            1007|          7|           1|               2|               3|                 0|                 0|\n",
      "|           1|CENTRO              |            101|PALACIO             |         1|            1007|          7|           2|               1|               4|                 0|                 0|\n",
      "|           1|CENTRO              |            101|PALACIO             |         1|            1007|          7|           3|               4|               0|                 0|                 0|\n",
      "|           1|CENTRO              |            101|PALACIO             |         1|            1007|          7|           4|               1|               2|                 0|                 1|\n",
      "|           1|CENTRO              |            101|PALACIO             |         1|            1007|          7|           5|               2|               6|                 0|                 0|\n",
      "|           1|CENTRO              |            101|PALACIO             |         1|            1007|          7|           6|               1|               0|                 0|                 0|\n",
      "|           1|CENTRO              |            101|PALACIO             |         1|            1007|          7|           7|               3|               2|                 0|                 0|\n",
      "|           1|CENTRO              |            101|PALACIO             |         1|            1007|          7|           8|               4|               2|                 0|                 0|\n",
      "|           1|CENTRO              |            101|PALACIO             |         1|            1007|          7|           9|               1|               3|                 0|                 0|\n",
      "|           1|CENTRO              |            101|PALACIO             |         1|            1007|          7|          10|               5|               3|                 1|                 0|\n",
      "|           1|CENTRO              |            101|PALACIO             |         1|            1007|          7|          11|               1|               2|                 0|                 0|\n",
      "|           1|CENTRO              |            101|PALACIO             |         1|            1007|          7|          12|               3|               2|                 1|                 0|\n",
      "|           1|CENTRO              |            101|PALACIO             |         1|            1007|          7|          13|               2|               1|                 0|                 0|\n",
      "|           1|CENTRO              |            101|PALACIO             |         1|            1007|          7|          14|               3|               2|                 0|                 0|\n",
      "|           1|CENTRO              |            101|PALACIO             |         1|            1007|          7|          15|               1|               1|                 1|                 0|\n",
      "|           1|CENTRO              |            101|PALACIO             |         1|            1007|          7|          16|               0|               1|                 0|                 0|\n",
      "|           1|CENTRO              |            101|PALACIO             |         1|            1007|          7|          17|               3|               2|                 0|                 0|\n",
      "|           1|CENTRO              |            101|PALACIO             |         1|            1007|          7|          18|               3|               0|                 0|                 1|\n",
      "+------------+--------------------+---------------+--------------------+----------+----------------+-----------+------------+----------------+----------------+------------------+------------------+\n",
      "only showing top 20 rows\n",
      "\n"
     ]
    },
    {
     "data": {
      "text/plain": [
       "import org.apache.spark.sql.types.{StringType, StructField, IntegerType, StructType}\n",
       "file_location: String = ../data/Rango_Edades_Seccion_202012.csv\n",
       "import org.apache.spark.sql.Row\n",
       "schema: org.apache.spark.sql.types.StructType = StructType(StructField(COD_DISTRITO,IntegerType,true), StructField(DESC_DISTRITO,StringType,true), StructField(COD_DIST_BARRIO,IntegerType,true), StructField(DESC_BARRIO,StringType,true), StructField(COD_BARRIO,IntegerType,true), StructField(COD_DIST_SECCION,IntegerType,true), StructField(COD_SECCION,IntegerType,true), StructField(COD_EDAD_INT,IntegerType,true), StructField(EspanolesHombres,IntegerType,true), StructField(EspanolesMujeres,IntegerType,true), StructField(ExtranjerosHombres,IntegerType,true), StructField(ExtranjerosMujeres,IntegerType,true))\n",
       "sourceD...\n"
      ]
     },
     "execution_count": 1,
     "metadata": {},
     "output_type": "execute_result"
    }
   ],
   "source": [
    "import org.apache.spark.sql.types.{StringType, StructField, IntegerType, StructType}\n",
    "\n",
    "val file_location = \"../data/Rango_Edades_Seccion_202012.csv\"\n",
    "\n",
    "import org.apache.spark.sql.Row\n",
    "\n",
    "// Se define el esquema de los datos\n",
    "val schema = StructType(\n",
    "  Array(\n",
    "    StructField(\"COD_DISTRITO\", IntegerType, true),\n",
    "    StructField(\"DESC_DISTRITO\", StringType, true),\n",
    "    StructField(\"COD_DIST_BARRIO\", IntegerType, true),\n",
    "    StructField(\"DESC_BARRIO\", StringType, true),\n",
    "    StructField(\"COD_BARRIO\", IntegerType, true),\n",
    "    StructField(\"COD_DIST_SECCION\", IntegerType, true),\n",
    "    StructField(\"COD_SECCION\", IntegerType, true),\n",
    "    StructField(\"COD_EDAD_INT\", IntegerType, true),\n",
    "    StructField(\"EspanolesHombres\", IntegerType, true),\n",
    "    StructField(\"EspanolesMujeres\", IntegerType, true),\n",
    "    StructField(\"ExtranjerosHombres\", IntegerType, true),\n",
    "    StructField(\"ExtranjerosMujeres\", IntegerType, true)\n",
    "   )\n",
    ")\n",
    "\n",
    "// Leemos los datos desde un CV indicando que:\n",
    "// El fichero CSV incluye cabecera\n",
    "// No se inferirá el esquema y nosotros indicaremos el esquema adacuado\n",
    "// Los valores vacios se reemplazaran por 0\n",
    "// Se indica que el separador de columna es el ;\n",
    "// Se indica que el caracter para escapar valores es \"\n",
    "// Se indica que los valores de cada columna/campo estará encerrado en \"\n",
    "// Se modifica el encoding para que tolere valores como ñ, ç, á, por mecionar algunos\n",
    "// Aunque no surge ningún efecto, se indica que se haga trim a los datos por derecha e izquierda\n",
    "val sourceDF = spark.read.format(\"csv\")\n",
    ".option(\"inferSchema\", false)\n",
    ".option(\"header\", true)\n",
    ".option(\"emptyValue\", \"0\")\n",
    ".option(\"ignoreLeadingWhiteSpace\", true)\n",
    ".option(\"ignoreTrailingWhiteSpace\", true)\n",
    ".option(\"sep\", \";\")\n",
    ".option(\"quote\", \"\\\"\")\n",
    ".option(\"escape\", \"\\\"\")\n",
    ".option(\"encoding\", \"ISO-8859-1\")\n",
    ".schema(schema)\n",
    ".load(file_location)\n",
    "\n",
    "sourceDF.show()"
   ]
  },
  {
   "cell_type": "code",
   "execution_count": 2,
   "metadata": {},
   "outputs": [
    {
     "name": "stdout",
     "output_type": "stream",
     "text": [
      "+------------+-------------+---------------+-----------+----------+----------------+-----------+------------+----------------+----------------+------------------+------------------+\n",
      "|COD_DISTRITO|DESC_DISTRITO|COD_DIST_BARRIO|DESC_BARRIO|COD_BARRIO|COD_DIST_SECCION|COD_SECCION|COD_EDAD_INT|EspanolesHombres|EspanolesMujeres|ExtranjerosHombres|ExtranjerosMujeres|\n",
      "+------------+-------------+---------------+-----------+----------+----------------+-----------+------------+----------------+----------------+------------------+------------------+\n",
      "|           1|       CENTRO|            101|    PALACIO|         1|            1006|          6|         103|               0|               1|                 0|                 0|\n",
      "|           1|       CENTRO|            101|    PALACIO|         1|            1007|          7|           0|               1|               1|                 0|                 3|\n",
      "|           1|       CENTRO|            101|    PALACIO|         1|            1007|          7|           1|               2|               3|                 0|                 0|\n",
      "|           1|       CENTRO|            101|    PALACIO|         1|            1007|          7|           2|               1|               4|                 0|                 0|\n",
      "|           1|       CENTRO|            101|    PALACIO|         1|            1007|          7|           3|               4|               0|                 0|                 0|\n",
      "|           1|       CENTRO|            101|    PALACIO|         1|            1007|          7|           4|               1|               2|                 0|                 1|\n",
      "|           1|       CENTRO|            101|    PALACIO|         1|            1007|          7|           5|               2|               6|                 0|                 0|\n",
      "|           1|       CENTRO|            101|    PALACIO|         1|            1007|          7|           6|               1|               0|                 0|                 0|\n",
      "|           1|       CENTRO|            101|    PALACIO|         1|            1007|          7|           7|               3|               2|                 0|                 0|\n",
      "|           1|       CENTRO|            101|    PALACIO|         1|            1007|          7|           8|               4|               2|                 0|                 0|\n",
      "|           1|       CENTRO|            101|    PALACIO|         1|            1007|          7|           9|               1|               3|                 0|                 0|\n",
      "|           1|       CENTRO|            101|    PALACIO|         1|            1007|          7|          10|               5|               3|                 1|                 0|\n",
      "|           1|       CENTRO|            101|    PALACIO|         1|            1007|          7|          11|               1|               2|                 0|                 0|\n",
      "|           1|       CENTRO|            101|    PALACIO|         1|            1007|          7|          12|               3|               2|                 1|                 0|\n",
      "|           1|       CENTRO|            101|    PALACIO|         1|            1007|          7|          13|               2|               1|                 0|                 0|\n",
      "|           1|       CENTRO|            101|    PALACIO|         1|            1007|          7|          14|               3|               2|                 0|                 0|\n",
      "|           1|       CENTRO|            101|    PALACIO|         1|            1007|          7|          15|               1|               1|                 1|                 0|\n",
      "|           1|       CENTRO|            101|    PALACIO|         1|            1007|          7|          16|               0|               1|                 0|                 0|\n",
      "|           1|       CENTRO|            101|    PALACIO|         1|            1007|          7|          17|               3|               2|                 0|                 0|\n",
      "|           1|       CENTRO|            101|    PALACIO|         1|            1007|          7|          18|               3|               0|                 0|                 1|\n",
      "+------------+-------------+---------------+-----------+----------+----------------+-----------+------------+----------------+----------------+------------------+------------------+\n",
      "only showing top 20 rows\n",
      "\n"
     ]
    },
    {
     "data": {
      "text/plain": [
       "import org.apache.spark.sql.functions.{col, trim}\n",
       "sourceDFWithTrimedValues: org.apache.spark.sql.Dataset[org.apache.spark.sql.Row] = [COD_DISTRITO: int, DESC_DISTRITO: string ... 10 more fields]\n"
      ]
     },
     "execution_count": 2,
     "metadata": {},
     "output_type": "execute_result"
    }
   ],
   "source": [
    "import org.apache.spark.sql.functions.{col, trim}\n",
    "\n",
    "// Se invoca la función trim únicamente en aquellos campos del tipo String\n",
    "val sourceDFWithTrimedValues = sourceDF.select(schema.fields.map(field => {\n",
    "  if (field.dataType == StringType) {\n",
    "   trim(col(field.name)).as(field.name) \n",
    "  } else {\n",
    "    col(field.name)\n",
    "  }\n",
    "}):_*).cache()\n",
    "\n",
    "sourceDFWithTrimedValues.show()"
   ]
  },
  {
   "cell_type": "code",
   "execution_count": 3,
   "metadata": {},
   "outputs": [
    {
     "name": "stdout",
     "output_type": "stream",
     "text": [
      "+------------+-------------+---------------+-----------+----------+----------------+-----------+------------+----------------+----------------+------------------+------------------+\n",
      "|COD_DISTRITO|DESC_DISTRITO|COD_DIST_BARRIO|DESC_BARRIO|COD_BARRIO|COD_DIST_SECCION|COD_SECCION|COD_EDAD_INT|EspanolesHombres|EspanolesMujeres|ExtranjerosHombres|ExtranjerosMujeres|\n",
      "+------------+-------------+---------------+-----------+----------+----------------+-----------+------------+----------------+----------------+------------------+------------------+\n",
      "|           1|       CENTRO|            101|    PALACIO|         1|            1006|          6|         103|               0|               1|                 0|                 0|\n",
      "|           1|       CENTRO|            101|    PALACIO|         1|            1007|          7|           0|               1|               1|                 0|                 3|\n",
      "|           1|       CENTRO|            101|    PALACIO|         1|            1007|          7|           1|               2|               3|                 0|                 0|\n",
      "|           1|       CENTRO|            101|    PALACIO|         1|            1007|          7|           2|               1|               4|                 0|                 0|\n",
      "|           1|       CENTRO|            101|    PALACIO|         1|            1007|          7|           3|               4|               0|                 0|                 0|\n",
      "|           1|       CENTRO|            101|    PALACIO|         1|            1007|          7|           4|               1|               2|                 0|                 1|\n",
      "|           1|       CENTRO|            101|    PALACIO|         1|            1007|          7|           5|               2|               6|                 0|                 0|\n",
      "|           1|       CENTRO|            101|    PALACIO|         1|            1007|          7|           6|               1|               0|                 0|                 0|\n",
      "|           1|       CENTRO|            101|    PALACIO|         1|            1007|          7|           7|               3|               2|                 0|                 0|\n",
      "|           1|       CENTRO|            101|    PALACIO|         1|            1007|          7|           8|               4|               2|                 0|                 0|\n",
      "|           1|       CENTRO|            101|    PALACIO|         1|            1007|          7|           9|               1|               3|                 0|                 0|\n",
      "|           1|       CENTRO|            101|    PALACIO|         1|            1007|          7|          10|               5|               3|                 1|                 0|\n",
      "|           1|       CENTRO|            101|    PALACIO|         1|            1007|          7|          11|               1|               2|                 0|                 0|\n",
      "|           1|       CENTRO|            101|    PALACIO|         1|            1007|          7|          12|               3|               2|                 1|                 0|\n",
      "|           1|       CENTRO|            101|    PALACIO|         1|            1007|          7|          13|               2|               1|                 0|                 0|\n",
      "|           1|       CENTRO|            101|    PALACIO|         1|            1007|          7|          14|               3|               2|                 0|                 0|\n",
      "|           1|       CENTRO|            101|    PALACIO|         1|            1007|          7|          15|               1|               1|                 1|                 0|\n",
      "|           1|       CENTRO|            101|    PALACIO|         1|            1007|          7|          16|               0|               1|                 0|                 0|\n",
      "|           1|       CENTRO|            101|    PALACIO|         1|            1007|          7|          17|               3|               2|                 0|                 0|\n",
      "|           1|       CENTRO|            101|    PALACIO|         1|            1007|          7|          18|               3|               0|                 0|                 1|\n",
      "+------------+-------------+---------------+-----------+----------+----------------+-----------+------------+----------------+----------------+------------------+------------------+\n",
      "only showing top 20 rows\n",
      "\n"
     ]
    }
   ],
   "source": [
    "// comprobamos filtrando por aquellos registros cuyo nombre de barrio es Palacio sin incluir espacios en blanco para comprobar que el trim ha funcionado\n",
    "sourceDFWithTrimedValues.where(col(\"DESC_BARRIO\") === \"PALACIO\").show()"
   ]
  },
  {
   "cell_type": "code",
   "execution_count": 4,
   "metadata": {},
   "outputs": [
    {
     "name": "stdout",
     "output_type": "stream",
     "text": [
      "+-------------+----------------+\n",
      "|DESC_DISTRITO|     DESC_BARRIO|\n",
      "+-------------+----------------+\n",
      "|   ARGANZUELA|         ACACIAS|\n",
      "|   ARGANZUELA|          ATOCHA|\n",
      "|   ARGANZUELA|         CHOPERA|\n",
      "|   ARGANZUELA|        DELICIAS|\n",
      "|   ARGANZUELA|        IMPERIAL|\n",
      "|   ARGANZUELA|         LEGAZPI|\n",
      "|   ARGANZUELA| PALOS DE MOGUER|\n",
      "|      BARAJAS|      AEROPUERTO|\n",
      "|      BARAJAS|ALAMEDA DE OSUNA|\n",
      "|      BARAJAS| CASCO H.BARAJAS|\n",
      "|      BARAJAS|      CORRALEJOS|\n",
      "|      BARAJAS|           TIMON|\n",
      "|  CARABANCHEL|        ABRANTES|\n",
      "|  CARABANCHEL|      BUENAVISTA|\n",
      "|  CARABANCHEL|        COMILLAS|\n",
      "|  CARABANCHEL|          OPAÑEL|\n",
      "|  CARABANCHEL|   PUERTA BONITA|\n",
      "|  CARABANCHEL|      SAN ISIDRO|\n",
      "|  CARABANCHEL|    VISTA ALEGRE|\n",
      "|       CENTRO|          CORTES|\n",
      "+-------------+----------------+\n",
      "only showing top 20 rows\n",
      "\n"
     ]
    },
    {
     "data": {
      "text/plain": [
       "import org.apache.spark.sql.functions.asc\n"
      ]
     },
     "execution_count": 4,
     "metadata": {},
     "output_type": "execute_result"
    }
   ],
   "source": [
    "import org.apache.spark.sql.functions.asc\n",
    "\n",
    "sourceDFWithTrimedValues.select(\"DESC_DISTRITO\", \"DESC_BARRIO\")\n",
    "                        .distinct()\n",
    "                        .orderBy(asc(\"DESC_DISTRITO\"), asc(\"DESC_BARRIO\"))\n",
    "                        .show()"
   ]
  },
  {
   "cell_type": "code",
   "execution_count": 5,
   "metadata": {},
   "outputs": [
    {
     "data": {
      "text/plain": [
       "onePartitionDF: org.apache.spark.sql.Dataset[org.apache.spark.sql.Row] = [COD_DISTRITO: int, DESC_DISTRITO: string ... 10 more fields]\n"
      ]
     },
     "execution_count": 5,
     "metadata": {},
     "output_type": "execute_result"
    }
   ],
   "source": [
    "// Se guardan los datos como una tabla en formato parquet\n",
    "sourceDFWithTrimedValues.write.mode(\"overwrite\").saveAsTable(\"padron_madrid\")\n",
    "// Se guardan los datos como una tabla particionada por los campos DESC_DISTRITO y DESC_BARRIO en formato parquet \n",
    "sourceDFWithTrimedValues.write.mode(\"overwrite\")\n",
    "    .partitionBy(\"DESC_DISTRITO\", \"DESC_BARRIO\")\n",
    "    .saveAsTable(\"padron_madrid_particionado\")\n",
    "\n",
    "// reducimos el numero de partitiones para que de esta forma sea un único fichero JSON o CSV el que sea generado al llevar a cabo la escritura\n",
    "val onePartitionDF = sourceDFWithTrimedValues.coalesce(1)\n",
    "\n",
    "// Se guardan los datos como un fichero CSV con cabecera\n",
    "onePartitionDF.write.mode(\"overwrite\").format(\"csv\").option(\"header\", true).save(\"./dataOutput/df/csv\")\n",
    "// Se guardan los datos como un fichero JSON\n",
    "onePartitionDF.write.mode(\"overwrite\").json(\"./dataOutput/df/json\")\n",
    "// Se guardan los datos como un fichero Parquet\n",
    "onePartitionDF.write.mode(\"overwrite\").parquet(\"./dataOutput/df/parquet\")"
   ]
  },
  {
   "cell_type": "code",
   "execution_count": 6,
   "metadata": {},
   "outputs": [
    {
     "name": "stdout",
     "output_type": "stream",
     "text": [
      "+----------------------------------------------------------------------------------------------------------------------------------------------------------------------------------------------------------------------------------------------------------------------------------------------------------------------------------------------------------------------------------------------------------------------+\n",
      "|createtab_stmt                                                                                                                                                                                                                                                                                                                                                                                                        |\n",
      "+----------------------------------------------------------------------------------------------------------------------------------------------------------------------------------------------------------------------------------------------------------------------------------------------------------------------------------------------------------------------------------------------------------------------+\n",
      "|CREATE TABLE `default`.`padron_madrid_particionado` (\n",
      "  `COD_DISTRITO` INT,\n",
      "  `COD_DIST_BARRIO` INT,\n",
      "  `COD_BARRIO` INT,\n",
      "  `COD_DIST_SECCION` INT,\n",
      "  `COD_SECCION` INT,\n",
      "  `COD_EDAD_INT` INT,\n",
      "  `EspanolesHombres` INT,\n",
      "  `EspanolesMujeres` INT,\n",
      "  `ExtranjerosHombres` INT,\n",
      "  `ExtranjerosMujeres` INT,\n",
      "  `DESC_DISTRITO` STRING,\n",
      "  `DESC_BARRIO` STRING)\n",
      "USING parquet\n",
      "PARTITIONED BY (DESC_DISTRITO, DESC_BARRIO)\n",
      "|\n",
      "+----------------------------------------------------------------------------------------------------------------------------------------------------------------------------------------------------------------------------------------------------------------------------------------------------------------------------------------------------------------------------------------------------------------------+\n",
      "\n"
     ]
    }
   ],
   "source": [
    "spark.sql(\"SHOW CREATE TABLE padron_madrid_particionado\").show(false)"
   ]
  },
  {
   "cell_type": "code",
   "execution_count": 7,
   "metadata": {},
   "outputs": [
    {
     "data": {
      "text/plain": [
       "warning: there was one feature warning; for details, enable `:setting -feature' or `:replay -feature'\n",
       "import scala.sys.process._\n",
       "res6: String =\n",
       "\"total 24456\n",
       "drwxr-xr-x  6 joseantoniorodriguez  staff   192B 14 mar 22:34 .\n",
       "drwxr-xr-x  5 joseantoniorodriguez  staff   160B 14 mar 22:34 ..\n",
       "-rw-r--r--  1 joseantoniorodriguez  staff     8B 14 mar 22:34 ._SUCCESS.crc\n",
       "-rw-r--r--  1 joseantoniorodriguez  staff    95K 14 mar 22:34 .part-00000-f2de7c57-86d4-4cc7-a203-bd35fed72cec-c000.csv.crc\n",
       "-rw-r--r--  1 joseantoniorodriguez  staff     0B 14 mar 22:34 _SUCCESS\n",
       "-rw-r--r--  1 joseantoniorodriguez  staff    12M 14 mar 22:34 part-00000-f2de7c57-86d4-4cc7-a203-bd35fed72cec-c000.csv\n",
       "\"\n"
      ]
     },
     "execution_count": 7,
     "metadata": {},
     "output_type": "execute_result"
    }
   ],
   "source": [
    "import scala.sys.process._\n",
    "\n",
    "// Lista el contenido de la carpeta /dataOutput/df/csv y el tamaño de los ficheros en un formato leible\n",
    "\"ls -lha ./dataOutput/df/csv\"!!"
   ]
  },
  {
   "cell_type": "code",
   "execution_count": 8,
   "metadata": {},
   "outputs": [
    {
     "data": {
      "text/plain": [
       "warning: there was one feature warning; for details, enable `:setting -feature' or `:replay -feature'\n",
       "res7: String =\n",
       "\"total 122696\n",
       "drwxr-xr-x  6 joseantoniorodriguez  staff   192B 14 mar 22:34 .\n",
       "drwxr-xr-x  5 joseantoniorodriguez  staff   160B 14 mar 22:34 ..\n",
       "-rw-r--r--  1 joseantoniorodriguez  staff     8B 14 mar 22:34 ._SUCCESS.crc\n",
       "-rw-r--r--  1 joseantoniorodriguez  staff   476K 14 mar 22:34 .part-00000-97b42ed8-af72-4dce-bee0-32553eba7af3-c000.json.crc\n",
       "-rw-r--r--  1 joseantoniorodriguez  staff     0B 14 mar 22:34 _SUCCESS\n",
       "-rw-r--r--  1 joseantoniorodriguez  staff    59M 14 mar 22:34 part-00000-97b42ed8-af72-4dce-bee0-32553eba7af3-c000.json\n",
       "\"\n"
      ]
     },
     "execution_count": 8,
     "metadata": {},
     "output_type": "execute_result"
    }
   ],
   "source": [
    "\"ls -lha ./dataOutput/df/json\"!!"
   ]
  },
  {
   "cell_type": "code",
   "execution_count": 9,
   "metadata": {},
   "outputs": [
    {
     "data": {
      "text/plain": [
       "warning: there was one feature warning; for details, enable `:setting -feature' or `:replay -feature'\n",
       "res8: String =\n",
       "\"total 1376\n",
       "drwxr-xr-x  6 joseantoniorodriguez  staff   192B 14 mar 22:34 .\n",
       "drwxr-xr-x  5 joseantoniorodriguez  staff   160B 14 mar 22:34 ..\n",
       "-rw-r--r--  1 joseantoniorodriguez  staff     8B 14 mar 22:34 ._SUCCESS.crc\n",
       "-rw-r--r--  1 joseantoniorodriguez  staff   5,3K 14 mar 22:34 .part-00000-073dbfb9-b744-4e7e-86ac-51159deeabac-c000.snappy.parquet.crc\n",
       "-rw-r--r--  1 joseantoniorodriguez  staff     0B 14 mar 22:34 _SUCCESS\n",
       "-rw-r--r--  1 joseantoniorodriguez  staff   674K 14 mar 22:34 part-00000-073dbfb9-b744-4e7e-86ac-51159deeabac-c000.snappy.parquet\n",
       "\"\n"
      ]
     },
     "execution_count": 9,
     "metadata": {},
     "output_type": "execute_result"
    }
   ],
   "source": [
    "\"ls -lha ./dataOutput/df/parquet\"!!"
   ]
  },
  {
   "cell_type": "code",
   "execution_count": null,
   "metadata": {},
   "outputs": [],
   "source": []
  }
 ],
 "metadata": {
  "kernelspec": {
   "display_name": "spylon-kernel",
   "language": "scala",
   "name": "spylon-kernel"
  },
  "language_info": {
   "codemirror_mode": "text/x-scala",
   "file_extension": ".scala",
   "help_links": [
    {
     "text": "MetaKernel Magics",
     "url": "https://metakernel.readthedocs.io/en/latest/source/README.html"
    }
   ],
   "mimetype": "text/x-scala",
   "name": "scala",
   "pygments_lexer": "scala",
   "version": "0.4.1"
  }
 },
 "nbformat": 4,
 "nbformat_minor": 2
}
