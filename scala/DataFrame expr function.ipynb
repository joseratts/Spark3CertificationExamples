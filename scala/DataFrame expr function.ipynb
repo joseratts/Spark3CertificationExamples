{
 "cells": [
  {
   "cell_type": "markdown",
   "metadata": {},
   "source": [
    "Notebook dedicado a explorar los distintos usos que se le pueden dar a la función expr"
   ]
  },
  {
   "cell_type": "code",
   "execution_count": 2,
   "metadata": {},
   "outputs": [
    {
     "name": "stdout",
     "output_type": "stream",
     "text": [
      "+------------+---+------+------+---+\n",
      "|        name|age|weight|height|sex|\n",
      "+------------+---+------+------+---+\n",
      "|        Jose| 40|    74|  1.63|  M|\n",
      "|María Isabel| 38|    58|  1.65|  F|\n",
      "|     Antonio| 27|    60|  1.68|  M|\n",
      "|       Norma| 63|    65|  1.54|  F|\n",
      "+------------+---+------+------+---+\n",
      "\n"
     ]
    },
    {
     "data": {
      "text/plain": [
       "columns: Seq[String] = List(name, age, weight, height, sex)\n",
       "data: Seq[(String, Int, Int, Double, String)] = List((Jose,40,74,1.63,M), (María Isabel,38,58,1.65,F), (Antonio,27,60,1.68,M), (Norma,63,65,1.54,F))\n",
       "df: org.apache.spark.sql.DataFrame = [name: string, age: int ... 3 more fields]\n"
      ]
     },
     "execution_count": 2,
     "metadata": {},
     "output_type": "execute_result"
    }
   ],
   "source": [
    "val columns = Seq(\"name\",\"age\",\"weight\", \"height\", \"sex\")\n",
    "val data = Seq(\n",
    "  (\"Jose\", 40, 74, 1.63, \"M\"), \n",
    "  (\"María Isabel\", 38, 58, 1.65, \"F\"), \n",
    "  (\"Antonio\", 27, 60, 1.68, \"M\"), \n",
    "  (\"Norma\", 63, 65, 1.54, \"F\")\n",
    ")\n",
    "val df = data.toDF(columns:_*)\n",
    "df.show()"
   ]
  },
  {
   "cell_type": "code",
   "execution_count": 3,
   "metadata": {},
   "outputs": [
    {
     "name": "stdout",
     "output_type": "stream",
     "text": [
      "+------------+---+\n",
      "|        name|age|\n",
      "+------------+---+\n",
      "|        Jose| 40|\n",
      "|María Isabel| 38|\n",
      "|     Antonio| 27|\n",
      "|       Norma| 63|\n",
      "+------------+---+\n",
      "\n"
     ]
    },
    {
     "data": {
      "text/plain": [
       "import org.apache.spark.sql.functions._\n"
      ]
     },
     "execution_count": 3,
     "metadata": {},
     "output_type": "execute_result"
    }
   ],
   "source": [
    "import org.apache.spark.sql.functions._\n",
    "\n",
    "// la función expr devuelve un elemento de tipo Columna, por lo cual puede utilizarse para mediante una expresión reemplazar \n",
    "// a una o un conjunto de funciones que devuelva una columna\n",
    "df.select(expr(\"name\"), col(\"age\")).show()"
   ]
  },
  {
   "cell_type": "code",
   "execution_count": 4,
   "metadata": {},
   "outputs": [
    {
     "name": "stdout",
     "output_type": "stream",
     "text": [
      "+------------+---+\n",
      "|        name|age|\n",
      "+------------+---+\n",
      "|        Jose| 40|\n",
      "|María Isabel| 38|\n",
      "|     Antonio| 27|\n",
      "|       Norma| 63|\n",
      "+------------+---+\n",
      "\n"
     ]
    }
   ],
   "source": [
    "df.select(expr(\"name\"), expr(\"age\")).show()"
   ]
  },
  {
   "cell_type": "code",
   "execution_count": 5,
   "metadata": {},
   "outputs": [
    {
     "name": "stdout",
     "output_type": "stream",
     "text": [
      "+------------+-----+\n",
      "|        name|age*2|\n",
      "+------------+-----+\n",
      "|        Jose|   80|\n",
      "|María Isabel|   76|\n",
      "|     Antonio|   54|\n",
      "|       Norma|  126|\n",
      "+------------+-----+\n",
      "\n"
     ]
    }
   ],
   "source": [
    "// Puede utilizarse para actualizar el valor de una columna, p.e. multiplicar el valor * 2\n",
    "df.select(expr(\"name\"), expr(\"age * 2\").alias(\"age*2\")).show()"
   ]
  },
  {
   "cell_type": "code",
   "execution_count": 6,
   "metadata": {},
   "outputs": [
    {
     "name": "stdout",
     "output_type": "stream",
     "text": [
      "+------------+----------+\n",
      "|        name|isnan(age)|\n",
      "+------------+----------+\n",
      "|        Jose|     false|\n",
      "|María Isabel|     false|\n",
      "|     Antonio|     false|\n",
      "|       Norma|     false|\n",
      "+------------+----------+\n",
      "\n"
     ]
    }
   ],
   "source": [
    "df.select(col(\"name\"), isnan(col(\"age\"))).show()"
   ]
  },
  {
   "cell_type": "code",
   "execution_count": 7,
   "metadata": {},
   "outputs": [
    {
     "name": "stdout",
     "output_type": "stream",
     "text": [
      "+------------+--------------------------+\n",
      "|        name|isnan(CAST(age AS DOUBLE))|\n",
      "+------------+--------------------------+\n",
      "|        Jose|                     false|\n",
      "|María Isabel|                     false|\n",
      "|     Antonio|                     false|\n",
      "|       Norma|                     false|\n",
      "+------------+--------------------------+\n",
      "\n"
     ]
    }
   ],
   "source": [
    "// Puede utilizarse para invocar funciones obteniendo el mismo resultado (comparar con la celda anterior)\n",
    "df.select(col(\"name\"), expr(\"isnan(age)\")).show()"
   ]
  },
  {
   "cell_type": "code",
   "execution_count": 8,
   "metadata": {},
   "outputs": [
    {
     "name": "stdout",
     "output_type": "stream",
     "text": [
      "+--------------------+-----+\n",
      "|size(split(name,  ))|count|\n",
      "+--------------------+-----+\n",
      "|                   1|    3|\n",
      "|                   2|    1|\n",
      "+--------------------+-----+\n",
      "\n"
     ]
    }
   ],
   "source": [
    "// Puede utilizarse dentro de un groupby incluso en operaciones tan complejas\n",
    "// como el ej. donde se agrupa por el resultado de la invocación de 2 funciones, obteniendo como resultado\n",
    "// la agrapación por número de palabras que contengan un nombre\n",
    "df.groupBy(expr(\"size(split(name, ' '))\")).count().show()"
   ]
  },
  {
   "cell_type": "code",
   "execution_count": 9,
   "metadata": {},
   "outputs": [
    {
     "name": "stdout",
     "output_type": "stream",
     "text": [
      "+------------+---+------+------+---+\n",
      "|        name|age|weight|height|sex|\n",
      "+------------+---+------+------+---+\n",
      "|María Isabel| 38|    58|  1.65|  F|\n",
      "|       Norma| 63|    65|  1.54|  F|\n",
      "+------------+---+------+------+---+\n",
      "\n"
     ]
    }
   ],
   "source": [
    "// Se puede utilizar para indicar expresiones utilizadas en el filtrado de los datos\n",
    "df.where(expr(\"sex = 'F'\")).show()"
   ]
  },
  {
   "cell_type": "code",
   "execution_count": 10,
   "metadata": {},
   "outputs": [
    {
     "name": "stdout",
     "output_type": "stream",
     "text": [
      "+------------+----+-----------+\n",
      "|        name|edad|abs(weight)|\n",
      "+------------+----+-----------+\n",
      "|        Jose|  40|         74|\n",
      "|María Isabel|  38|         58|\n",
      "|     Antonio|  27|         60|\n",
      "|       Norma|  63|         65|\n",
      "+------------+----+-----------+\n",
      "\n",
      "+------------+----+-----------+\n",
      "|        name|edad|abs(weight)|\n",
      "+------------+----+-----------+\n",
      "|        Jose|  40|         74|\n",
      "|María Isabel|  38|         58|\n",
      "|     Antonio|  27|         60|\n",
      "|       Norma|  63|         65|\n",
      "+------------+----+-----------+\n",
      "\n"
     ]
    }
   ],
   "source": [
    "// Trabajar con selectExpr es similar a trabajar con la función expr\n",
    "df.selectExpr(\"name\", \"age as edad\", \"abs(weight)\").show()\n",
    "df.select(expr(\"name\"), expr(\"age as edad\"), expr(\"abs(weight)\")).show()"
   ]
  },
  {
   "cell_type": "code",
   "execution_count": 11,
   "metadata": {},
   "outputs": [
    {
     "name": "stdout",
     "output_type": "stream",
     "text": [
      "+------------+---+------+------+---+\n",
      "|        name|age|weight|height|sex|\n",
      "+------------+---+------+------+---+\n",
      "|        Jose| 41|    74|  1.63|  M|\n",
      "|María Isabel| 39|    58|  1.65|  F|\n",
      "|     Antonio| 28|    60|  1.68|  M|\n",
      "|       Norma| 64|    65|  1.54|  F|\n",
      "+------------+---+------+------+---+\n",
      "\n"
     ]
    }
   ],
   "source": [
    "// En este caso sobrescribiendo una columna con un nuevo valor (la edad + 1)\n",
    "df.withColumn(\"age\", expr(\"age + 1\")).show()"
   ]
  },
  {
   "cell_type": "code",
   "execution_count": 12,
   "metadata": {},
   "outputs": [
    {
     "name": "stdout",
     "output_type": "stream",
     "text": [
      "+------------+---+------+------+---+\n",
      "|        name|age|weight|height|sex|\n",
      "+------------+---+------+------+---+\n",
      "|        Jose| 41|    74|  1.63|  M|\n",
      "|María Isabel| 39|    58|  1.65|  F|\n",
      "|     Antonio| 28|    60|  1.68|  M|\n",
      "|       Norma| 64|    65|  1.54|  F|\n",
      "+------------+---+------+------+---+\n",
      "\n"
     ]
    }
   ],
   "source": [
    "df.withColumn(\"age\", col(\"age\")+1).show()"
   ]
  },
  {
   "cell_type": "code",
   "execution_count": null,
   "metadata": {},
   "outputs": [],
   "source": []
  }
 ],
 "metadata": {
  "kernelspec": {
   "display_name": "spylon-kernel",
   "language": "scala",
   "name": "spylon-kernel"
  },
  "language_info": {
   "codemirror_mode": "text/x-scala",
   "file_extension": ".scala",
   "help_links": [
    {
     "text": "MetaKernel Magics",
     "url": "https://metakernel.readthedocs.io/en/latest/source/README.html"
    }
   ],
   "mimetype": "text/x-scala",
   "name": "scala",
   "pygments_lexer": "scala",
   "version": "0.4.1"
  }
 },
 "nbformat": 4,
 "nbformat_minor": 2
}
