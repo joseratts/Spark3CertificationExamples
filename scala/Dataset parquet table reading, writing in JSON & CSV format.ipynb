{
 "cells": [
  {
   "cell_type": "markdown",
   "metadata": {},
   "source": [
    "Notebook dedicado a explorar métodos de lectura y escritura de un Dataset. Para ello se trabajara con Los datos obtenidos del fichero del portal de datos abiertos del ayuntamiento de Madrid, especificamente el Padron de Madrid, los cuales han están almacenados en una tabla en formato Parquet.\n",
    "\n",
    "En este Notebook leeremos datos en distintos formatos:\n",
    "* Parquet\n",
    "\n",
    "Escribiremos datos en los siguientes formatos:\n",
    "* CSV\n",
    "* JSON"
   ]
  },
  {
   "cell_type": "code",
   "execution_count": 1,
   "metadata": {},
   "outputs": [
    {
     "data": {
      "text/plain": [
       "Intitializing Scala interpreter ..."
      ]
     },
     "metadata": {},
     "output_type": "display_data"
    },
    {
     "data": {
      "text/plain": [
       "Spark Web UI available at http://192.168.1.35:4041\n",
       "SparkContext available as 'sc' (version = 3.0.2, master = local[*], app id = local-1614555093351)\n",
       "SparkSession available as 'spark'\n"
      ]
     },
     "metadata": {},
     "output_type": "display_data"
    },
    {
     "data": {
      "text/plain": [
       "defined class Padron\n"
      ]
     },
     "execution_count": 1,
     "metadata": {},
     "output_type": "execute_result"
    }
   ],
   "source": [
    "case class Padron (\n",
    "  COD_DISTRITO: Integer,\n",
    "  DESC_DISTRITO: String,\n",
    "  COD_DIST_BARRIO: Integer,\n",
    "  DESC_BARRIO: String,\n",
    "  COD_BARRIO: Integer,\n",
    "  COD_DIST_SECCION: Integer,\n",
    "  COD_SECCION: Integer,\n",
    "  COD_EDAD_INT: Integer,\n",
    "  EspanolesHombres: Integer,\n",
    "  EspanolesMujeres: Integer,\n",
    "  ExtranjerosHombres: Integer,\n",
    "  ExtranjerosMujeres: Integer\n",
    "  )"
   ]
  },
  {
   "cell_type": "code",
   "execution_count": 4,
   "metadata": {},
   "outputs": [
    {
     "data": {
      "text/plain": [
       "import spark.implicits._\n",
       "sourceParquetDS: org.apache.spark.sql.Dataset[Padron] = [COD_DISTRITO: int, DESC_DISTRITO: string ... 10 more fields]\n",
       "totalRecords: Long = 237675\n"
      ]
     },
     "execution_count": 4,
     "metadata": {},
     "output_type": "execute_result"
    }
   ],
   "source": [
    "import spark.implicits._\n",
    "\n",
    "// Leemos Datos procedentes de tabla cuyos datos están en formato parquet\n",
    "// una vez leidos transformamos el DataFrame en un Dataset\n",
    "// val sourceParquetDS = spark.table(\"default.padron_madrid\").as[Padron].cache()\n",
    "val sourceParquetDS = spark.read.parquet(\"./dataOutput/df/parquet\").as[Padron].cache()\n",
    "\n",
    "// obtenemos el total de registros\n",
    "val totalRecords = sourceParquetDS.count()"
   ]
  },
  {
   "cell_type": "code",
   "execution_count": 5,
   "metadata": {},
   "outputs": [
    {
     "name": "stdout",
     "output_type": "stream",
     "text": [
      "+-------------------+--------------------+---------------------+---------------------+-----------------------+-----------------------+------------+------------+-------------+\n",
      "|      DESC_DISTRITO|         DESC_BARRIO|TotalEspanolesHombres|TotalEspanolesMujeres|TotalExtranjerosHombres|TotalExtranjerosMujeres|TotalHombres|TotalMujeres|TotalPersonas|\n",
      "+-------------------+--------------------+---------------------+---------------------+-----------------------+-----------------------+------------+------------+-------------+\n",
      "|             LATINA|              ALUCHE|                25257|                29932|                   5592|                   6609|       30849|       36541|        67390|\n",
      "|FUENCARRAL-EL PARDO|            VALVERDE|                26976|                29226|                   3730|                   4515|       30706|       33741|        64447|\n",
      "|          HORTALEZA|        VALDEFUENTES|                28206|                28615|                   2824|                   3748|       31030|       32363|        63393|\n",
      "|      CIUDAD LINEAL|        PUEBLO NUEVO|                23542|                27511|                   5615|                   6517|       29157|       34028|        63185|\n",
      "|          HORTALEZA|       PINAR DEL REY|                21426|                25011|                   2869|                   3566|       24295|       28577|        52872|\n",
      "|             LATINA|         LAS AGUILAS|                20987|                24203|                   3087|                   3684|       24074|       27887|        51961|\n",
      "|  VILLA DE VALLECAS|ENSANCHE DE VALLECAS|                21961|                22295|                   2815|                   3313|       24776|       25608|        50384|\n",
      "|      CIUDAD LINEAL|              VENTAS|                17752|                21912|                   4069|                   4913|       21821|       26825|        48646|\n",
      "| PUENTE DE VALLECAS|            NUMANCIA|                17290|                19641|                   5584|                   5907|       22874|       25548|        48422|\n",
      "|        CARABANCHEL|          BUENAVISTA|                19859|                21166|                   3424|                   3751|       23283|       24917|        48200|\n",
      "|             CENTRO|         EMBAJADORES|                16694|                16809|                   8230|                   5787|       24924|       22596|        47520|\n",
      "|        CARABANCHEL|        VISTA ALEGRE|                15998|                19492|                   5589|                   6291|       21587|       25783|        47370|\n",
      "|         VILLAVERDE|VILLAVERDE ALTO C.H.|                17102|                19110|                   5182|                   5470|       22284|       24580|        46864|\n",
      "|FUENCARRAL-EL PARDO|            EL PILAR|                18580|                21981|                   2554|                   3189|       21134|       25170|        46304|\n",
      "|FUENCARRAL-EL PARDO|         PEÑA GRANDE|                19103|                21688|                   1567|                   2192|       20670|       23880|        44550|\n",
      "| PUENTE DE VALLECAS|           SAN DIEGO|                13903|                15587|                   7066|                   7367|       20969|       22954|        43923|\n",
      "| PUENTE DE VALLECAS|   PALOMERAS SURESTE|                17682|                19516|                   2845|                   3083|       20527|       22599|        43126|\n",
      "|             LATINA|    PUERTA DEL ANGEL|                15250|                17837|                   4211|                   4930|       19461|       22767|        42228|\n",
      "|          SALAMANCA|          GUINDALERA|                16836|                20325|                   2223|                   2740|       19059|       23065|        42124|\n",
      "| PUENTE DE VALLECAS|     PALOMERAS BAJAS|                15999|                18130|                   3050|                   3468|       19049|       21598|        40647|\n",
      "+-------------------+--------------------+---------------------+---------------------+-----------------------+-----------------------+------------+------------+-------------+\n",
      "only showing top 20 rows\n",
      "\n"
     ]
    },
    {
     "data": {
      "text/plain": [
       "import org.apache.spark.sql.functions._\n",
       "totalBySexAndTypeDF: org.apache.spark.sql.DataFrame = [COD_DISTRITO: int, DESC_DISTRITO: string ... 12 more fields]\n",
       "distritoAndBarrioPeopleAggDF: org.apache.spark.sql.Dataset[org.apache.spark.sql.Row] = [DESC_DISTRITO: string, DESC_BARRIO: string ... 7 more fields]\n"
      ]
     },
     "execution_count": 5,
     "metadata": {},
     "output_type": "execute_result"
    }
   ],
   "source": [
    "import org.apache.spark.sql.functions._\n",
    "\n",
    "val totalBySexAndTypeDF = sourceParquetDS.withColumn(\"Hombres\", col(\"EspanolesHombres\") + col(\"ExtranjerosHombres\"))\n",
    "                                       .withColumn(\"Mujeres\", col(\"EspanolesMujeres\") + col(\"ExtranjerosMujeres\"))\n",
    "\n",
    "val distritoAndBarrioPeopleAggDF = totalBySexAndTypeDF.groupBy(\"DESC_DISTRITO\", \"DESC_BARRIO\")\n",
    ".agg(\n",
    "  sum(\"EspanolesHombres\").alias(\"TotalEspanolesHombres\"),\n",
    "  sum(\"EspanolesMujeres\").alias(\"TotalEspanolesMujeres\"),\n",
    "  sum(\"ExtranjerosHombres\").alias(\"TotalExtranjerosHombres\"),\n",
    "  sum(\"ExtranjerosMujeres\").alias(\"TotalExtranjerosMujeres\"),\n",
    "  sum(\"Hombres\").alias(\"TotalHombres\"),\n",
    "  sum(\"Mujeres\").alias(\"TotalMujeres\")\n",
    "  )\n",
    ".withColumn(\"TotalPersonas\", col(\"TotalHombres\") + col(\"TotalMujeres\"))\n",
    ".select(\"DESC_DISTRITO\", \"DESC_BARRIO\", \"TotalEspanolesHombres\", \"TotalEspanolesMujeres\", \"TotalExtranjerosHombres\", \"TotalExtranjerosMujeres\", \"TotalHombres\", \"TotalMujeres\", \"TotalPersonas\").cache()\n",
    "\n",
    "distritoAndBarrioPeopleAggDF.orderBy(col(\"TotalPersonas\").desc).show()"
   ]
  },
  {
   "cell_type": "code",
   "execution_count": 6,
   "metadata": {},
   "outputs": [
    {
     "name": "stdout",
     "output_type": "stream",
     "text": [
      "+-------------------+---------------------+---------------------+-----------------------+-----------------------+------------+------------+-------------+--------------+----------------+\n",
      "|      DESC_DISTRITO|TotalEspanolesHombres|TotalEspanolesMujeres|TotalExtranjerosHombres|TotalExtranjerosMujeres|TotalHombres|TotalMujeres|TotalPersonas|TotalEspanoles|TotalExtranjeros|\n",
      "+-------------------+---------------------+---------------------+-----------------------+-----------------------+------------+------------+-------------+--------------+----------------+\n",
      "|        CARABANCHEL|                94274|               108948|                  27018|                  29908|      121292|      138856|       260148|        203222|           56926|\n",
      "|FUENCARRAL-EL PARDO|               107136|               118780|                  10034|                  13021|      117170|      131801|       248971|        225916|           23055|\n",
      "|             LATINA|                92207|               106512|                  19780|                  23149|      111987|      129661|       241648|        198719|           42929|\n",
      "| PUENTE DE VALLECAS|                90080|               100862|                  23917|                  25589|      113997|      126451|       240448|        190942|           49506|\n",
      "|      CIUDAD LINEAL|                83600|               100225|                  15559|                  18761|       99159|      118986|       218145|        183825|           34320|\n",
      "|          HORTALEZA|                82390|                89932|                   9642|                  12161|       92032|      102093|       194125|        172322|           21803|\n",
      "|SAN BLAS-CANILLEJAS|                65363|                72564|                  10864|                  12315|       76227|       84879|       161106|        137927|           23179|\n",
      "|             TETUAN|                58796|                69116|                  14413|                  18498|       73209|       87614|       160823|        127912|           32911|\n",
      "|         VILLAVERDE|                57612|                63867|                  16695|                  17404|       74307|       81271|       155578|        121479|           34099|\n",
      "|         ARGANZUELA|                64566|                73947|                   7896|                   8878|       72462|       82825|       155287|        138513|           16774|\n",
      "|          SALAMANCA|                55511|                69259|                   9363|                  12646|       64874|       81905|       146779|        124770|           22009|\n",
      "|          CHAMARTIN|                59872|                71553|                   6119|                   9035|       65991|       80588|       146579|        131425|           15154|\n",
      "|              USERA|                50340|                57664|                  17275|                  18023|       67615|       75687|       143302|        108004|           35298|\n",
      "|             CENTRO|                52732|                52699|                  19507|                  17005|       72239|       69704|       141943|        105431|           36512|\n",
      "|           CHAMBERI|                54316|                67897|                   7443|                  10016|       61759|       77913|       139672|        122213|           17459|\n",
      "|    MONCLOA-ARAVACA|                49914|                57525|                   6052|                   8027|       55966|       65552|       121518|        107439|           14079|\n",
      "|             RETIRO|                49784|                59126|                   4356|                   6018|       54140|       65144|       119284|        108910|           10374|\n",
      "|  VILLA DE VALLECAS|                48211|                50823|                   7669|                   8596|       55880|       59419|       115299|         99034|           16265|\n",
      "|          MORATALAZ|                38509|                45823|                   4465|                   5665|       42974|       51488|        94462|         84332|           10130|\n",
      "|          VICALVARO|                31690|                33871|                   4905|                   5182|       36595|       39053|        75648|         65561|           10087|\n",
      "+-------------------+---------------------+---------------------+-----------------------+-----------------------+------------+------------+-------------+--------------+----------------+\n",
      "only showing top 20 rows\n",
      "\n"
     ]
    },
    {
     "data": {
      "text/plain": [
       "distritoPeopleAggDF: org.apache.spark.sql.DataFrame = [DESC_DISTRITO: string, TotalEspanolesHombres: bigint ... 8 more fields]\n"
      ]
     },
     "execution_count": 6,
     "metadata": {},
     "output_type": "execute_result"
    }
   ],
   "source": [
    "val distritoPeopleAggDF = distritoAndBarrioPeopleAggDF.groupBy(\"DESC_DISTRITO\").agg(\n",
    "sum(\"TotalEspanolesHombres\").alias(\"TotalEspanolesHombres\"),\n",
    "  sum(\"TotalEspanolesMujeres\").alias(\"TotalEspanolesMujeres\"),\n",
    "  sum(\"TotalExtranjerosHombres\").alias(\"TotalExtranjerosHombres\"),\n",
    "  sum(\"TotalExtranjerosMujeres\").alias(\"TotalExtranjerosMujeres\"),\n",
    "  sum(\"TotalHombres\").alias(\"TotalHombres\"),\n",
    "  sum(\"TotalMujeres\").alias(\"TotalMujeres\"),\n",
    "  sum(\"TotalPersonas\").alias(\"TotalPersonas\")\n",
    ")\n",
    ".withColumn(\"TotalEspanoles\", col(\"TotalEspanolesHombres\") + col(\"TotalEspanolesMujeres\"))\n",
    ".withColumn(\"TotalExtranjeros\", col(\"TotalExtranjerosHombres\") + col(\"TotalExtranjerosMujeres\"))\n",
    "\n",
    "distritoPeopleAggDF.orderBy(col(\"TotalPersonas\").desc).show()"
   ]
  },
  {
   "cell_type": "code",
   "execution_count": 7,
   "metadata": {},
   "outputs": [
    {
     "name": "stdout",
     "output_type": "stream",
     "text": [
      "+-------------------+---------------------+---------------------+-----------------------+-----------------------+------------+------------+-------------+--------------+----------------+-----------+-------------+---------+---------+\n",
      "|      DESC_DISTRITO|TotalEspanolesHombres|TotalEspanolesMujeres|TotalExtranjerosHombres|TotalExtranjerosMujeres|TotalHombres|TotalMujeres|TotalPersonas|TotalEspanoles|TotalExtranjeros|%_Espanoles|%_Extranjeros|%_Mujeres|%_Hombres|\n",
      "+-------------------+---------------------+---------------------+-----------------------+-----------------------+------------+------------+-------------+--------------+----------------+-----------+-------------+---------+---------+\n",
      "|             LATINA|                92207|               106512|                  19780|                  23149|      111987|      129661|       241648|        198719|           42929|      82.23|        17.77|    53.66|    46.34|\n",
      "|             TETUAN|                58796|                69116|                  14413|                  18498|       73209|       87614|       160823|        127912|           32911|      79.54|        20.46|    54.48|    45.52|\n",
      "|          SALAMANCA|                55511|                69259|                   9363|                  12646|       64874|       81905|       146779|        124770|           22009|      85.01|        14.99|    55.80|    44.20|\n",
      "|             RETIRO|                49784|                59126|                   4356|                   6018|       54140|       65144|       119284|        108910|           10374|      91.30|         8.70|    54.61|    45.39|\n",
      "|    MONCLOA-ARAVACA|                49914|                57525|                   6052|                   8027|       55966|       65552|       121518|        107439|           14079|      88.41|        11.59|    53.94|    46.06|\n",
      "|          HORTALEZA|                82390|                89932|                   9642|                  12161|       92032|      102093|       194125|        172322|           21803|      88.77|        11.23|    52.59|    47.41|\n",
      "| PUENTE DE VALLECAS|                90080|               100862|                  23917|                  25589|      113997|      126451|       240448|        190942|           49506|      79.41|        20.59|    52.59|    47.41|\n",
      "|         VILLAVERDE|                57612|                63867|                  16695|                  17404|       74307|       81271|       155578|        121479|           34099|      78.08|        21.92|    52.24|    47.76|\n",
      "|           CHAMBERI|                54316|                67897|                   7443|                  10016|       61759|       77913|       139672|        122213|           17459|      87.50|        12.50|    55.78|    44.22|\n",
      "|SAN BLAS-CANILLEJAS|                65363|                72564|                  10864|                  12315|       76227|       84879|       161106|        137927|           23179|      85.61|        14.39|    52.69|    47.31|\n",
      "|      CIUDAD LINEAL|                83600|               100225|                  15559|                  18761|       99159|      118986|       218145|        183825|           34320|      84.27|        15.73|    54.54|    45.46|\n",
      "|            BARAJAS|                21955|                23156|                   2302|                   2872|       24257|       26028|        50285|         45111|            5174|      89.71|        10.29|    51.76|    48.24|\n",
      "|  VILLA DE VALLECAS|                48211|                50823|                   7669|                   8596|       55880|       59419|       115299|         99034|           16265|      85.89|        14.11|    51.53|    48.47|\n",
      "|          VICALVARO|                31690|                33871|                   4905|                   5182|       36595|       39053|        75648|         65561|           10087|      86.67|        13.33|    51.62|    48.38|\n",
      "|        CARABANCHEL|                94274|               108948|                  27018|                  29908|      121292|      138856|       260148|        203222|           56926|      78.12|        21.88|    53.38|    46.62|\n",
      "|             CENTRO|                52732|                52699|                  19507|                  17005|       72239|       69704|       141943|        105431|           36512|      74.28|        25.72|    49.11|    50.89|\n",
      "|          MORATALAZ|                38509|                45823|                   4465|                   5665|       42974|       51488|        94462|         84332|           10130|      89.28|        10.72|    54.51|    45.49|\n",
      "|          CHAMARTIN|                59872|                71553|                   6119|                   9035|       65991|       80588|       146579|        131425|           15154|      89.66|        10.34|    54.98|    45.02|\n",
      "|FUENCARRAL-EL PARDO|               107136|               118780|                  10034|                  13021|      117170|      131801|       248971|        225916|           23055|      90.74|         9.26|    52.94|    47.06|\n",
      "|         ARGANZUELA|                64566|                73947|                   7896|                   8878|       72462|       82825|       155287|        138513|           16774|      89.20|        10.80|    53.34|    46.66|\n",
      "+-------------------+---------------------+---------------------+-----------------------+-----------------------+------------+------------+-------------+--------------+----------------+-----------+-------------+---------+---------+\n",
      "only showing top 20 rows\n",
      "\n"
     ]
    },
    {
     "data": {
      "text/plain": [
       "import org.apache.spark.sql.types.DecimalType\n",
       "distritoPeopleAggRatioDF: org.apache.spark.sql.DataFrame = [DESC_DISTRITO: string, TotalEspanolesHombres: bigint ... 12 more fields]\n"
      ]
     },
     "execution_count": 7,
     "metadata": {},
     "output_type": "execute_result"
    }
   ],
   "source": [
    "import org.apache.spark.sql.types.DecimalType\n",
    "\n",
    "val distritoPeopleAggRatioDF = distritoPeopleAggDF\n",
    ".withColumn(\"%_Espanoles\", (lit(100) * col(\"TotalEspanoles\") / col(\"TotalPersonas\")).cast(DecimalType(4,2)))\n",
    ".withColumn(\"%_Extranjeros\", (lit(100) * col(\"TotalExtranjeros\") / col(\"TotalPersonas\")).cast(DecimalType(4,2)))\n",
    ".withColumn(\"%_Mujeres\", (lit(100) * col(\"TotalMujeres\") / col(\"TotalPersonas\")).cast(DecimalType(4,2)))\n",
    ".withColumn(\"%_Hombres\", (lit(100) * col(\"TotalHombres\") / col(\"TotalPersonas\")).cast(DecimalType(4,2)))\n",
    "\n",
    "distritoPeopleAggRatioDF.show()"
   ]
  },
  {
   "cell_type": "code",
   "execution_count": 8,
   "metadata": {},
   "outputs": [
    {
     "name": "stdout",
     "output_type": "stream",
     "text": [
      "root\n",
      " |-- DESC_DISTRITO: string (nullable = true)\n",
      " |-- TotalEspanolesHombres: long (nullable = true)\n",
      " |-- TotalEspanolesMujeres: long (nullable = true)\n",
      " |-- TotalExtranjerosHombres: long (nullable = true)\n",
      " |-- TotalExtranjerosMujeres: long (nullable = true)\n",
      " |-- TotalHombres: long (nullable = true)\n",
      " |-- TotalMujeres: long (nullable = true)\n",
      " |-- TotalPersonas: long (nullable = true)\n",
      " |-- TotalEspanoles: long (nullable = true)\n",
      " |-- TotalExtranjeros: long (nullable = true)\n",
      " |-- %_Espanoles: decimal(4,2) (nullable = true)\n",
      " |-- %_Extranjeros: decimal(4,2) (nullable = true)\n",
      " |-- %_Mujeres: decimal(4,2) (nullable = true)\n",
      " |-- %_Hombres: decimal(4,2) (nullable = true)\n",
      "\n"
     ]
    }
   ],
   "source": [
    "// examinamos la estructura (esquema/schema) del DF final\n",
    "distritoPeopleAggRatioDF.printSchema"
   ]
  },
  {
   "cell_type": "code",
   "execution_count": 9,
   "metadata": {},
   "outputs": [
    {
     "data": {
      "text/plain": [
       "import java.math.BigDecimal\n",
       "defined class PadronDistritoAggregation\n"
      ]
     },
     "execution_count": 9,
     "metadata": {},
     "output_type": "execute_result"
    }
   ],
   "source": [
    "import java.math.BigDecimal\n",
    "// import scala.math.BigInt\n",
    "\n",
    "// Dado el schema del DF anterior\n",
    "// Los decimal se expresan utilizando como tipo de dato la clase java.math.BigDecimal\n",
    "// Los datos de tipo long podemos expresarlos con datos del tipo Long y scala.math.BigInt. \n",
    "// El primero arroja mejor rendimiento mientras que el segundo permite almacenar un rango más amplio que el tipo Long\n",
    "\n",
    "case class PadronDistritoAggregation (\n",
    "  DESC_DISTRITO: String,\n",
    "  TotalEspanolesHombres: Long,\n",
    "  TotalEspanolesMujeres: Long,\n",
    "  TotalExtranjerosHombres: Long,\n",
    "  TotalExtranjerosMujeres: Long,\n",
    "  TotalHombres: Long,\n",
    "  TotalMujeres: Long,\n",
    "  TotalPersonas: Long,\n",
    "  TotalEspanoles: Long,\n",
    "  TotalExtranjeros: Long,\n",
    "  `%_Espanoles`: BigDecimal,\n",
    "  `%_Extranjeros`: BigDecimal,\n",
    "  `%_Mujeres`: BigDecimal,\n",
    "  `%_Hombres`: BigDecimal\n",
    ")"
   ]
  },
  {
   "cell_type": "code",
   "execution_count": 10,
   "metadata": {},
   "outputs": [
    {
     "name": "stdout",
     "output_type": "stream",
     "text": [
      "+-------------------+---------------------+---------------------+-----------------------+-----------------------+------------+------------+-------------+--------------+----------------+-----------+-------------+---------+---------+\n",
      "|      DESC_DISTRITO|TotalEspanolesHombres|TotalEspanolesMujeres|TotalExtranjerosHombres|TotalExtranjerosMujeres|TotalHombres|TotalMujeres|TotalPersonas|TotalEspanoles|TotalExtranjeros|%_Espanoles|%_Extranjeros|%_Mujeres|%_Hombres|\n",
      "+-------------------+---------------------+---------------------+-----------------------+-----------------------+------------+------------+-------------+--------------+----------------+-----------+-------------+---------+---------+\n",
      "|             LATINA|                92207|               106512|                  19780|                  23149|      111987|      129661|       241648|        198719|           42929|      82.23|        17.77|    53.66|    46.34|\n",
      "|             TETUAN|                58796|                69116|                  14413|                  18498|       73209|       87614|       160823|        127912|           32911|      79.54|        20.46|    54.48|    45.52|\n",
      "|          SALAMANCA|                55511|                69259|                   9363|                  12646|       64874|       81905|       146779|        124770|           22009|      85.01|        14.99|    55.80|    44.20|\n",
      "|             RETIRO|                49784|                59126|                   4356|                   6018|       54140|       65144|       119284|        108910|           10374|      91.30|         8.70|    54.61|    45.39|\n",
      "|    MONCLOA-ARAVACA|                49914|                57525|                   6052|                   8027|       55966|       65552|       121518|        107439|           14079|      88.41|        11.59|    53.94|    46.06|\n",
      "|          HORTALEZA|                82390|                89932|                   9642|                  12161|       92032|      102093|       194125|        172322|           21803|      88.77|        11.23|    52.59|    47.41|\n",
      "| PUENTE DE VALLECAS|                90080|               100862|                  23917|                  25589|      113997|      126451|       240448|        190942|           49506|      79.41|        20.59|    52.59|    47.41|\n",
      "|         VILLAVERDE|                57612|                63867|                  16695|                  17404|       74307|       81271|       155578|        121479|           34099|      78.08|        21.92|    52.24|    47.76|\n",
      "|           CHAMBERI|                54316|                67897|                   7443|                  10016|       61759|       77913|       139672|        122213|           17459|      87.50|        12.50|    55.78|    44.22|\n",
      "|SAN BLAS-CANILLEJAS|                65363|                72564|                  10864|                  12315|       76227|       84879|       161106|        137927|           23179|      85.61|        14.39|    52.69|    47.31|\n",
      "|      CIUDAD LINEAL|                83600|               100225|                  15559|                  18761|       99159|      118986|       218145|        183825|           34320|      84.27|        15.73|    54.54|    45.46|\n",
      "|            BARAJAS|                21955|                23156|                   2302|                   2872|       24257|       26028|        50285|         45111|            5174|      89.71|        10.29|    51.76|    48.24|\n",
      "|  VILLA DE VALLECAS|                48211|                50823|                   7669|                   8596|       55880|       59419|       115299|         99034|           16265|      85.89|        14.11|    51.53|    48.47|\n",
      "|          VICALVARO|                31690|                33871|                   4905|                   5182|       36595|       39053|        75648|         65561|           10087|      86.67|        13.33|    51.62|    48.38|\n",
      "|        CARABANCHEL|                94274|               108948|                  27018|                  29908|      121292|      138856|       260148|        203222|           56926|      78.12|        21.88|    53.38|    46.62|\n",
      "|             CENTRO|                52732|                52699|                  19507|                  17005|       72239|       69704|       141943|        105431|           36512|      74.28|        25.72|    49.11|    50.89|\n",
      "|          MORATALAZ|                38509|                45823|                   4465|                   5665|       42974|       51488|        94462|         84332|           10130|      89.28|        10.72|    54.51|    45.49|\n",
      "|          CHAMARTIN|                59872|                71553|                   6119|                   9035|       65991|       80588|       146579|        131425|           15154|      89.66|        10.34|    54.98|    45.02|\n",
      "|FUENCARRAL-EL PARDO|               107136|               118780|                  10034|                  13021|      117170|      131801|       248971|        225916|           23055|      90.74|         9.26|    52.94|    47.06|\n",
      "|         ARGANZUELA|                64566|                73947|                   7896|                   8878|       72462|       82825|       155287|        138513|           16774|      89.20|        10.80|    53.34|    46.66|\n",
      "+-------------------+---------------------+---------------------+-----------------------+-----------------------+------------+------------+-------------+--------------+----------------+-----------+-------------+---------+---------+\n",
      "only showing top 20 rows\n",
      "\n"
     ]
    },
    {
     "data": {
      "text/plain": [
       "distritoPeopleAggDS: org.apache.spark.sql.Dataset[PadronDistritoAggregation] = [DESC_DISTRITO: string, TotalEspanolesHombres: bigint ... 12 more fields]\n"
      ]
     },
     "execution_count": 10,
     "metadata": {},
     "output_type": "execute_result"
    }
   ],
   "source": [
    "//convertimos el DataFrame = Dataset[Row] a Dataset[PadronDistritoAggregation]\n",
    "val distritoPeopleAggDS = distritoPeopleAggRatioDF.as[PadronDistritoAggregation]\n",
    "distritoPeopleAggDS.show()"
   ]
  },
  {
   "cell_type": "code",
   "execution_count": 11,
   "metadata": {},
   "outputs": [
    {
     "name": "stdout",
     "output_type": "stream",
     "text": [
      "Número actual de particiones: 200\n",
      "Número actual de particiones después del coalesce: 1\n"
     ]
    },
    {
     "data": {
      "text/plain": [
       "onePartitionDS: org.apache.spark.sql.Dataset[PadronDistritoAggregation] = [DESC_DISTRITO: string, TotalEspanolesHombres: bigint ... 12 more fields]\n"
      ]
     },
     "execution_count": 11,
     "metadata": {},
     "output_type": "execute_result"
    }
   ],
   "source": [
    "println(s\"Número actual de particiones: ${distritoPeopleAggDS.rdd.getNumPartitions}\")\n",
    "\n",
    "// reducimos el numero de partitiones para que de esta forma sea un único fichero JSON o CSV el que sea generado al llevar a cabo la escritura\n",
    "val onePartitionDS = distritoPeopleAggDS.coalesce(1)\n",
    "\n",
    "println(s\"Número actual de particiones después del coalesce: ${onePartitionDS.rdd.getNumPartitions}\")\n",
    "\n",
    "onePartitionDS.write.mode(\"overwrite\").format(\"csv\").option(\"header\", true).save(\"./dataOutput/ds/csv\")\n",
    "onePartitionDS.write.mode(\"overwrite\").json(\"./dataOutput/ds/json\")"
   ]
  },
  {
   "cell_type": "code",
   "execution_count": null,
   "metadata": {},
   "outputs": [],
   "source": []
  }
 ],
 "metadata": {
  "kernelspec": {
   "display_name": "spylon-kernel",
   "language": "scala",
   "name": "spylon-kernel"
  },
  "language_info": {
   "codemirror_mode": "text/x-scala",
   "file_extension": ".scala",
   "help_links": [
    {
     "text": "MetaKernel Magics",
     "url": "https://metakernel.readthedocs.io/en/latest/source/README.html"
    }
   ],
   "mimetype": "text/x-scala",
   "name": "scala",
   "pygments_lexer": "scala",
   "version": "0.4.1"
  }
 },
 "nbformat": 4,
 "nbformat_minor": 2
}
