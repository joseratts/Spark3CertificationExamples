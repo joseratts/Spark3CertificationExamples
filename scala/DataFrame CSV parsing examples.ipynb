{
 "cells": [
  {
   "cell_type": "markdown",
   "metadata": {},
   "source": [
    "Notebook dedicado a explorar distintos métodos de parsing de datos en formato CSV"
   ]
  },
  {
   "cell_type": "code",
   "execution_count": 1,
   "metadata": {},
   "outputs": [
    {
     "data": {
      "text/plain": [
       "Intitializing Scala interpreter ..."
      ]
     },
     "metadata": {},
     "output_type": "display_data"
    },
    {
     "data": {
      "text/plain": [
       "Spark Web UI available at http://192.168.1.36:4045\n",
       "SparkContext available as 'sc' (version = 3.0.2, master = local[*], app id = local-1615723338259)\n",
       "SparkSession available as 'spark'\n"
      ]
     },
     "metadata": {},
     "output_type": "display_data"
    },
    {
     "name": "stdout",
     "output_type": "stream",
     "text": [
      "+---+-------------------------+\n",
      "|ID |CSV_value                |\n",
      "+---+-------------------------+\n",
      "|1  |Jose,40,74,1.63,M        |\n",
      "|2  |María Isabel,38,58,1.65,F|\n",
      "|3  |Antonio,27,60,1.68,M     |\n",
      "|4  |Norma,63,65,1.54,F       |\n",
      "+---+-------------------------+\n",
      "\n"
     ]
    },
    {
     "data": {
      "text/plain": [
       "import spark.implicits._\n",
       "columns: Seq[String] = List(ID, CSV_value)\n",
       "data: Seq[(Int, String)] = List((1,Jose,40,74,1.63,M), (2,María Isabel,38,58,1.65,F), (3,Antonio,27,60,1.68,M), (4,Norma,63,65,1.54,F))\n",
       "df: org.apache.spark.sql.DataFrame = [ID: int, CSV_value: string]\n"
      ]
     },
     "execution_count": 1,
     "metadata": {},
     "output_type": "execute_result"
    }
   ],
   "source": [
    "import spark.implicits._\n",
    "val columns = Seq(\"ID\",\"CSV_value\")\n",
    "val data = Seq(\n",
    "  (1, \"\"\"Jose,40,74,1.63,M\"\"\"), \n",
    "  (2, \"\"\"María Isabel,38,58,1.65,F\"\"\"), \n",
    "  (3, \"\"\"Antonio,27,60,1.68,M\"\"\"), \n",
    "  (4, \"\"\"Norma,63,65,1.54,F\"\"\")\n",
    "  )\n",
    "\n",
    "val df = data.toDF(columns:_*)\n",
    "\n",
    "df.show(false)"
   ]
  },
  {
   "cell_type": "code",
   "execution_count": 2,
   "metadata": {},
   "outputs": [
    {
     "name": "stdout",
     "output_type": "stream",
     "text": [
      "+---+-------------------------------+\n",
      "|ID |csvData                        |\n",
      "+---+-------------------------------+\n",
      "|1  |[Jose, 40, 74, 1.63, M]        |\n",
      "|2  |[María Isabel, 38, 58, 1.65, F]|\n",
      "|3  |[Antonio, 27, 60, 1.68, M]     |\n",
      "|4  |[Norma, 63, 65, 1.54, F]       |\n",
      "+---+-------------------------------+\n",
      "\n"
     ]
    },
    {
     "data": {
      "text/plain": [
       "import org.apache.spark.sql.types.{StringType, StructField, IntegerType, FloatType, StructType}\n",
       "import org.apache.spark.sql.functions._\n",
       "schema: org.apache.spark.sql.types.StructType = StructType(StructField(name,StringType,true), StructField(age,IntegerType,true), StructField(weight,IntegerType,true), StructField(height,FloatType,true), StructField(sex,StringType,true))\n",
       "options: scala.collection.immutable.Map[String,String] = Map(delimiter -> ,)\n",
       "from_csvDF: org.apache.spark.sql.DataFrame = [ID: int, csvData: struct<name: string, age: int ... 3 more fields>]\n"
      ]
     },
     "execution_count": 2,
     "metadata": {},
     "output_type": "execute_result"
    }
   ],
   "source": [
    "import org.apache.spark.sql.types.{StringType, StructField, IntegerType, FloatType, StructType}\n",
    "import org.apache.spark.sql.functions._\n",
    "\n",
    "val schema = StructType(\n",
    "  Array(\n",
    "    StructField(\"name\", StringType, true),\n",
    "    StructField(\"age\", IntegerType, true),\n",
    "    StructField(\"weight\", IntegerType, true),\n",
    "    StructField(\"height\", FloatType, true),\n",
    "    StructField(\"sex\", StringType, true),\n",
    "    )\n",
    "  )\n",
    "\n",
    "val options = Map(\"delimiter\" ->\",\")\n",
    "val from_csvDF = df.select($\"ID\", from_csv($\"CSV_value\", schema, options).as(\"csvData\"))\n",
    "from_csvDF.show(false)"
   ]
  },
  {
   "cell_type": "code",
   "execution_count": 3,
   "metadata": {},
   "outputs": [
    {
     "name": "stdout",
     "output_type": "stream",
     "text": [
      "+---+------------+---+------+------+---+\n",
      "|ID |name        |age|weight|height|sex|\n",
      "+---+------------+---+------+------+---+\n",
      "|1  |Jose        |40 |74    |1.63  |M  |\n",
      "|2  |María Isabel|38 |58    |1.65  |F  |\n",
      "|3  |Antonio     |27 |60    |1.68  |M  |\n",
      "|4  |Norma       |63 |65    |1.54  |F  |\n",
      "+---+------------+---+------+------+---+\n",
      "\n"
     ]
    }
   ],
   "source": [
    "from_csvDF.select(\"ID\",\"csvData.*\").show(false)"
   ]
  },
  {
   "cell_type": "code",
   "execution_count": 4,
   "metadata": {},
   "outputs": [
    {
     "name": "stdout",
     "output_type": "stream",
     "text": [
      "+--------------------------------------------------------+\n",
      "|schema_of_csv                                           |\n",
      "+--------------------------------------------------------+\n",
      "|struct<_c0:string,_c1:int,_c2:int,_c3:double,_c4:string>|\n",
      "|struct<_c0:string,_c1:int,_c2:int,_c3:double,_c4:string>|\n",
      "|struct<_c0:string,_c1:int,_c2:int,_c3:double,_c4:string>|\n",
      "|struct<_c0:string,_c1:int,_c2:int,_c3:double,_c4:string>|\n",
      "+--------------------------------------------------------+\n",
      "\n"
     ]
    }
   ],
   "source": [
    "df.select(schema_of_csv(df.select($\"CSV_value\").first().getString(0)).as(\"schema_of_csv\")).show(false)"
   ]
  },
  {
   "cell_type": "code",
   "execution_count": null,
   "metadata": {},
   "outputs": [],
   "source": []
  }
 ],
 "metadata": {
  "kernelspec": {
   "display_name": "spylon-kernel",
   "language": "scala",
   "name": "spylon-kernel"
  },
  "language_info": {
   "codemirror_mode": "text/x-scala",
   "file_extension": ".scala",
   "help_links": [
    {
     "text": "MetaKernel Magics",
     "url": "https://metakernel.readthedocs.io/en/latest/source/README.html"
    }
   ],
   "mimetype": "text/x-scala",
   "name": "scala",
   "pygments_lexer": "scala",
   "version": "0.4.1"
  }
 },
 "nbformat": 4,
 "nbformat_minor": 2
}
